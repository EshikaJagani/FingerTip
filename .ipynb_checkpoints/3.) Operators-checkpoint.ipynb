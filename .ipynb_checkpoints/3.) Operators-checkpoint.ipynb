{
 "cells": [
  {
   "cell_type": "markdown",
   "id": "ffd7d0d6",
   "metadata": {},
   "source": [
    "# Python Operators\n",
    "\n",
    "- Arithmetic Operators\n",
    "- Assignment Operators\n",
    "- Comparison Operators\n",
    "- Logical Operators\n",
    "- Membership Operators\n",
    "- Identity Operators"
   ]
  },
  {
   "cell_type": "code",
   "execution_count": 1,
   "id": "22d66bbb",
   "metadata": {},
   "outputs": [],
   "source": [
    "d={\"a\":100, \"b\":200}"
   ]
  },
  {
   "cell_type": "code",
   "execution_count": 2,
   "id": "6c3428cf",
   "metadata": {},
   "outputs": [
    {
     "name": "stdout",
     "output_type": "stream",
     "text": [
      "False\n"
     ]
    }
   ],
   "source": [
    "print(\"Z\" in d)"
   ]
  },
  {
   "cell_type": "code",
   "execution_count": 3,
   "id": "7738ebf6",
   "metadata": {},
   "outputs": [],
   "source": [
    "s={\"A\",\"b\",\"c\"}"
   ]
  },
  {
   "cell_type": "code",
   "execution_count": 4,
   "id": "6a91036a",
   "metadata": {},
   "outputs": [
    {
     "name": "stdout",
     "output_type": "stream",
     "text": [
      "False\n"
     ]
    }
   ],
   "source": [
    "print( \"s\" in s)"
   ]
  },
  {
   "cell_type": "code",
   "execution_count": 5,
   "id": "ef861a6c",
   "metadata": {},
   "outputs": [
    {
     "name": "stdout",
     "output_type": "stream",
     "text": [
      "15\n"
     ]
    }
   ],
   "source": [
    "a=10\n",
    "a=a+5\n",
    "print(a)"
   ]
  },
  {
   "cell_type": "code",
   "execution_count": 6,
   "id": "e44f0400",
   "metadata": {},
   "outputs": [
    {
     "name": "stdout",
     "output_type": "stream",
     "text": [
      "20\n"
     ]
    }
   ],
   "source": [
    "#a=a+5\n",
    "a+=5\n",
    "print(a)"
   ]
  },
  {
   "cell_type": "code",
   "execution_count": 7,
   "id": "5001dd13",
   "metadata": {},
   "outputs": [
    {
     "data": {
      "text/plain": [
       "15"
      ]
     },
     "execution_count": 7,
     "metadata": {},
     "output_type": "execute_result"
    }
   ],
   "source": [
    "a-=5\n",
    "a"
   ]
  },
  {
   "cell_type": "code",
   "execution_count": null,
   "id": "66c600cc",
   "metadata": {},
   "outputs": [],
   "source": []
  },
  {
   "cell_type": "markdown",
   "id": "b7d99712",
   "metadata": {},
   "source": [
    "# Arithmetic Operators"
   ]
  },
  {
   "cell_type": "code",
   "execution_count": 8,
   "id": "1b9bc4d8",
   "metadata": {},
   "outputs": [
    {
     "name": "stdout",
     "output_type": "stream",
     "text": [
      "25\n",
      "4.0\n",
      "4\n",
      "2\n",
      "110\n",
      "125\n"
     ]
    }
   ],
   "source": [
    "print(5 + 20)\n",
    "print(20 / 5)\n",
    "print(22 // 5) #Quotion \n",
    "print(22 % 5) #Remainder\n",
    "print(22 * 5)\n",
    "print(5 ** 3)"
   ]
  },
  {
   "cell_type": "code",
   "execution_count": 9,
   "id": "63b01ac3",
   "metadata": {},
   "outputs": [],
   "source": [
    "22 / 5\n",
    "\n",
    "Q = 4\n",
    "R = 2\n",
    "Div = 5\n",
    "Divdent = 22"
   ]
  },
  {
   "cell_type": "markdown",
   "id": "0b0e4777",
   "metadata": {},
   "source": [
    "# Assignment Operators"
   ]
  },
  {
   "cell_type": "code",
   "execution_count": 10,
   "id": "fbf7a222",
   "metadata": {},
   "outputs": [],
   "source": [
    "a = 5\n"
   ]
  },
  {
   "cell_type": "code",
   "execution_count": 11,
   "id": "b7088137",
   "metadata": {},
   "outputs": [],
   "source": [
    "a = a + 2\n"
   ]
  },
  {
   "cell_type": "code",
   "execution_count": 12,
   "id": "0915b3f0",
   "metadata": {},
   "outputs": [],
   "source": [
    "a += 3"
   ]
  },
  {
   "cell_type": "code",
   "execution_count": 13,
   "id": "aa3f1223",
   "metadata": {},
   "outputs": [
    {
     "data": {
      "text/plain": [
       "10"
      ]
     },
     "execution_count": 13,
     "metadata": {},
     "output_type": "execute_result"
    }
   ],
   "source": [
    "a"
   ]
  },
  {
   "cell_type": "code",
   "execution_count": 14,
   "id": "a4744b41",
   "metadata": {},
   "outputs": [
    {
     "data": {
      "text/plain": [
       "15"
      ]
     },
     "execution_count": 14,
     "metadata": {},
     "output_type": "execute_result"
    }
   ],
   "source": [
    "x = 10\n",
    "\n",
    "#x = x + 5\n",
    "x += 5\n",
    "\n",
    "x"
   ]
  },
  {
   "cell_type": "code",
   "execution_count": 15,
   "id": "836efc10",
   "metadata": {},
   "outputs": [],
   "source": [
    "y = 10"
   ]
  },
  {
   "cell_type": "code",
   "execution_count": 16,
   "id": "3f3b175f",
   "metadata": {},
   "outputs": [],
   "source": [
    "y =- 3"
   ]
  },
  {
   "cell_type": "code",
   "execution_count": 17,
   "id": "21f76c60",
   "metadata": {},
   "outputs": [
    {
     "data": {
      "text/plain": [
       "-3"
      ]
     },
     "execution_count": 17,
     "metadata": {},
     "output_type": "execute_result"
    }
   ],
   "source": [
    "y"
   ]
  },
  {
   "cell_type": "code",
   "execution_count": 18,
   "id": "1652cdfe",
   "metadata": {},
   "outputs": [
    {
     "name": "stdout",
     "output_type": "stream",
     "text": [
      "y =  10\n",
      "y += 3 =>  13\n",
      "y -= 3 =>  10\n",
      "y *= 3 =>  30\n",
      "y /= 3 =>  10.0\n",
      "y(to the power)3 =>  1000.0\n",
      "y //= 100 =>  10.0\n",
      "(remainder of)y/3 =>  1.0\n",
      "y += 9 =>  10.0\n",
      "Quotient in y//3 =>  3.0\n"
     ]
    }
   ],
   "source": [
    "# Assigning values\n",
    "y = 10\n",
    "print('y = ',y)\n",
    "\n",
    "# y=y+3\n",
    "y += 3\n",
    "print('y += 3 => ',y)\n",
    "\n",
    "# y=y-3\n",
    "y -= 3\n",
    "print('y -= 3 => ',y)\n",
    "\n",
    "# y=y*3\n",
    "y *= 3\n",
    "print('y *= 3 => ',y)\n",
    "\n",
    "# y=y/3\n",
    "y /= 3\n",
    "print('y /= 3 => ',y)\n",
    "\n",
    "# y=y(to the power)3\n",
    "y **= 3\n",
    "print('y(to the power)3 => ',y)\n",
    "\n",
    "# Floor Division\n",
    "y //= 100\n",
    "print('y //= 100 => ',y)\n",
    "\n",
    "# y=(remainder of)y/3\n",
    "y %= 3\n",
    "print('(remainder of)y/3 => ',y)\n",
    "\n",
    "# increasing value to 10\n",
    "y += 9\n",
    "print('y += 9 => ',y)\n",
    "\n",
    "# Floor Division\n",
    "y //= 3\n",
    "print('Quotient in y//3 => ',y)\n"
   ]
  },
  {
   "cell_type": "code",
   "execution_count": 19,
   "id": "e1de24ff",
   "metadata": {},
   "outputs": [
    {
     "data": {
      "text/plain": [
       "3.0"
      ]
     },
     "execution_count": 19,
     "metadata": {},
     "output_type": "execute_result"
    }
   ],
   "source": [
    "# value of y\n",
    "y"
   ]
  },
  {
   "cell_type": "code",
   "execution_count": 20,
   "id": "3a404f9e",
   "metadata": {},
   "outputs": [
    {
     "name": "stdout",
     "output_type": "stream",
     "text": [
      "y =  3\n",
      "type(y) =  <class 'int'>\n"
     ]
    }
   ],
   "source": [
    "# typecasting from float to int\n",
    "y=int(y)\n",
    "print('y = ',y)\n",
    "print('type(y) = ',type(y))"
   ]
  },
  {
   "cell_type": "code",
   "execution_count": 21,
   "id": "2c951fe0",
   "metadata": {},
   "outputs": [
    {
     "data": {
      "text/plain": [
       "3.3333333333333335"
      ]
     },
     "execution_count": 21,
     "metadata": {},
     "output_type": "execute_result"
    }
   ],
   "source": [
    "# dividing int (ans is in float)\n",
    "10/3"
   ]
  },
  {
   "cell_type": "markdown",
   "id": "4400e243",
   "metadata": {},
   "source": [
    "# Comparision Operators"
   ]
  },
  {
   "cell_type": "code",
   "execution_count": 22,
   "id": "85dcd756",
   "metadata": {
    "scrolled": true
   },
   "outputs": [
    {
     "name": "stdout",
     "output_type": "stream",
     "text": [
      "False\n",
      "True\n",
      "False\n",
      "True\n",
      "False\n"
     ]
    }
   ],
   "source": [
    "a = 10\n",
    "b = 4\n",
    "print(a == b)\n",
    "print(a > b)\n",
    "print(a < b)\n",
    "print(a >= b)\n",
    "print(a <= b)\n"
   ]
  },
  {
   "cell_type": "code",
   "execution_count": 23,
   "id": "9d094d73",
   "metadata": {},
   "outputs": [
    {
     "data": {
      "text/plain": [
       "True"
      ]
     },
     "execution_count": 23,
     "metadata": {},
     "output_type": "execute_result"
    }
   ],
   "source": [
    "a!=b"
   ]
  },
  {
   "cell_type": "code",
   "execution_count": 24,
   "id": "18bcd510",
   "metadata": {},
   "outputs": [
    {
     "ename": "SyntaxError",
     "evalue": "invalid syntax (Temp/ipykernel_11900/818172447.py, line 1)",
     "output_type": "error",
     "traceback": [
      "\u001b[1;36m  File \u001b[1;32m\"C:\\Users\\eshik\\AppData\\Local\\Temp/ipykernel_11900/818172447.py\"\u001b[1;36m, line \u001b[1;32m1\u001b[0m\n\u001b[1;33m    a<>b\u001b[0m\n\u001b[1;37m     ^\u001b[0m\n\u001b[1;31mSyntaxError\u001b[0m\u001b[1;31m:\u001b[0m invalid syntax\n"
     ]
    }
   ],
   "source": [
    "a<>b"
   ]
  },
  {
   "cell_type": "code",
   "execution_count": 25,
   "id": "9c38ad60",
   "metadata": {},
   "outputs": [
    {
     "name": "stdout",
     "output_type": "stream",
     "text": [
      "True\n"
     ]
    }
   ],
   "source": [
    "print(a != b)"
   ]
  },
  {
   "cell_type": "code",
   "execution_count": 26,
   "id": "4506f5c2",
   "metadata": {},
   "outputs": [
    {
     "name": "stdout",
     "output_type": "stream",
     "text": [
      "10\n",
      "4\n"
     ]
    }
   ],
   "source": [
    "print(a)\n",
    "print(b)"
   ]
  },
  {
   "cell_type": "code",
   "execution_count": 29,
   "id": "e9506cf1",
   "metadata": {},
   "outputs": [],
   "source": [
    "a=b"
   ]
  },
  {
   "cell_type": "code",
   "execution_count": 28,
   "id": "84205d09",
   "metadata": {},
   "outputs": [
    {
     "data": {
      "text/plain": [
       "True"
      ]
     },
     "execution_count": 28,
     "metadata": {},
     "output_type": "execute_result"
    }
   ],
   "source": [
    "a==b"
   ]
  },
  {
   "cell_type": "code",
   "execution_count": 30,
   "id": "c50ef934",
   "metadata": {},
   "outputs": [
    {
     "data": {
      "text/plain": [
       "1"
      ]
     },
     "execution_count": 30,
     "metadata": {},
     "output_type": "execute_result"
    }
   ],
   "source": [
    "True+False"
   ]
  },
  {
   "cell_type": "markdown",
   "id": "c92f903c",
   "metadata": {},
   "source": [
    "# Logical Operators"
   ]
  },
  {
   "cell_type": "code",
   "execution_count": 31,
   "id": "a2381930",
   "metadata": {},
   "outputs": [
    {
     "ename": "SyntaxError",
     "evalue": "invalid syntax (Temp/ipykernel_11900/3630536381.py, line 5)",
     "output_type": "error",
     "traceback": [
      "\u001b[1;36m  File \u001b[1;32m\"C:\\Users\\eshik\\AppData\\Local\\Temp/ipykernel_11900/3630536381.py\"\u001b[1;36m, line \u001b[1;32m5\u001b[0m\n\u001b[1;33m    AND A>0 AND B>0 =>> TRUE\u001b[0m\n\u001b[1;37m        ^\u001b[0m\n\u001b[1;31mSyntaxError\u001b[0m\u001b[1;31m:\u001b[0m invalid syntax\n"
     ]
    }
   ],
   "source": [
    "A = -10\n",
    "B = 5\n",
    "\n",
    "\n",
    "AND A>0 AND B>0 =>> TRUE\n",
    "OR  A>0 OR B>0 >> TRUE\n",
    "NOT A>0 >> TRUE"
   ]
  },
  {
   "cell_type": "code",
   "execution_count": 32,
   "id": "124a07b7",
   "metadata": {},
   "outputs": [],
   "source": [
    "a = 13"
   ]
  },
  {
   "cell_type": "code",
   "execution_count": 34,
   "id": "9d512a9b",
   "metadata": {},
   "outputs": [],
   "source": [
    "if a>0 and a<8:\n",
    "    print(a)"
   ]
  },
  {
   "cell_type": "code",
   "execution_count": 35,
   "id": "77137b27",
   "metadata": {},
   "outputs": [
    {
     "name": "stdout",
     "output_type": "stream",
     "text": [
      "Hello\n"
     ]
    }
   ],
   "source": [
    "if a>0 and a<11:\n",
    "    print(a)\n",
    "else:\n",
    "    print(\"Hello\")"
   ]
  },
  {
   "cell_type": "code",
   "execution_count": 36,
   "id": "e325cdea",
   "metadata": {
    "scrolled": true
   },
   "outputs": [
    {
     "name": "stdout",
     "output_type": "stream",
     "text": [
      "13\n"
     ]
    }
   ],
   "source": [
    "if a>0 or a!=11:\n",
    "    print(a)"
   ]
  },
  {
   "cell_type": "code",
   "execution_count": 37,
   "id": "ee945301",
   "metadata": {},
   "outputs": [
    {
     "name": "stdout",
     "output_type": "stream",
     "text": [
      "What is your name? eshika\n",
      "Hello eshika\n"
     ]
    }
   ],
   "source": [
    "x=input(\"What is your name? \")\n",
    "print(\"Hello\",x)"
   ]
  },
  {
   "cell_type": "code",
   "execution_count": 38,
   "id": "f7672b10",
   "metadata": {},
   "outputs": [
    {
     "name": "stdout",
     "output_type": "stream",
     "text": [
      "What is your age? 20\n",
      "Your age after 10 years will be 30\n"
     ]
    }
   ],
   "source": [
    "y=int(input(\"What is your age? \"))\n",
    "z=10+y\n",
    "print(\"Your age after 10 years will be\",z)"
   ]
  },
  {
   "cell_type": "markdown",
   "id": "57449c11",
   "metadata": {},
   "source": [
    "# Nested if-elif-else"
   ]
  },
  {
   "cell_type": "code",
   "execution_count": 39,
   "id": "e87053b6",
   "metadata": {},
   "outputs": [
    {
     "name": "stdout",
     "output_type": "stream",
     "text": [
      "a is greater than 40 but can be any number\n"
     ]
    }
   ],
   "source": [
    "a = 55.60\n",
    "if a<10:\n",
    "    print(\"a is lesser than 10\")\n",
    "elif a<20:\n",
    "    print(\"a is lesser than 20\")\n",
    "elif a<30:\n",
    "    print(\"a is lesser than 30\")\n",
    "elif a<40:\n",
    "    print(\"a is lesser than 40\")\n",
    "else:\n",
    "    print(\"a is greater than 40 but can be any number\")"
   ]
  },
  {
   "cell_type": "code",
   "execution_count": 43,
   "id": "5671fc2a",
   "metadata": {},
   "outputs": [
    {
     "name": "stdout",
     "output_type": "stream",
     "text": [
      "Hello!\n"
     ]
    }
   ],
   "source": [
    "a = 5\n",
    "if a>10:\n",
    "    print(\"a is greater than 10\")\n",
    "    if a>20:\n",
    "        print(\"a is also greater than 20\")\n",
    "        if a>30:\n",
    "            print(\"a is also greater than 30\")\n",
    "            if a>40:\n",
    "                print(\"a is also greater than 40\")\n",
    "else:\n",
    "    print(\"Hello!\")"
   ]
  },
  {
   "cell_type": "code",
   "execution_count": null,
   "id": "c2703824",
   "metadata": {},
   "outputs": [],
   "source": [
    "range(2,15,2)"
   ]
  },
  {
   "cell_type": "code",
   "execution_count": 44,
   "id": "3bcfaeb7",
   "metadata": {
    "scrolled": true
   },
   "outputs": [
    {
     "name": "stdout",
     "output_type": "stream",
     "text": [
      "&&&&\n",
      "&&&&&&&\n",
      "++++++++++\n",
      "+++++++++++++\n"
     ]
    }
   ],
   "source": [
    "for i in range(4,15,3):\n",
    "    if i < 8:\n",
    "        print(\"&\"*i)\n",
    "    else:\n",
    "        print(\"+\"*i)"
   ]
  },
  {
   "cell_type": "markdown",
   "id": "e53f4a25",
   "metadata": {},
   "source": [
    "# Membership Operators"
   ]
  },
  {
   "cell_type": "code",
   "execution_count": 2,
   "id": "bd47c2f9",
   "metadata": {},
   "outputs": [
    {
     "name": "stdout",
     "output_type": "stream",
     "text": [
      "True\n",
      "True\n",
      "False\n",
      "False\n"
     ]
    }
   ],
   "source": [
    "# in: returns True if the value is present in the list else False\n",
    "# not in: returns True if the value is not present in the list else False\n",
    "days = ['Monday','Tuesday','Wednesday','Thursday','Friday','Saturday','Sunday']\n",
    "print('Monday' in days)\n",
    "print('Sunday' in days)\n",
    "print('Friday' not in days)\n",
    "print('Saturday' not in days)"
   ]
  },
  {
   "cell_type": "markdown",
   "id": "92736a90",
   "metadata": {},
   "source": [
    "# Identity Operators"
   ]
  },
  {
   "cell_type": "code",
   "execution_count": 5,
   "id": "930306e2",
   "metadata": {},
   "outputs": [
    {
     "name": "stdout",
     "output_type": "stream",
     "text": [
      "False\n",
      "True\n"
     ]
    }
   ],
   "source": [
    "# is: returns True if the first value equals the second value else False\n",
    "# is: returns True if the first value is not equal to the second value else False\n",
    "a = 2\n",
    "b = 8\n",
    "# b = 2\n",
    "\n",
    "print(a is b)\n",
    "print(a is not b)"
   ]
  }
 ],
 "metadata": {
  "kernelspec": {
   "display_name": "Python 3 (ipykernel)",
   "language": "python",
   "name": "python3"
  },
  "language_info": {
   "codemirror_mode": {
    "name": "ipython",
    "version": 3
   },
   "file_extension": ".py",
   "mimetype": "text/x-python",
   "name": "python",
   "nbconvert_exporter": "python",
   "pygments_lexer": "ipython3",
   "version": "3.9.7"
  }
 },
 "nbformat": 4,
 "nbformat_minor": 5
}
