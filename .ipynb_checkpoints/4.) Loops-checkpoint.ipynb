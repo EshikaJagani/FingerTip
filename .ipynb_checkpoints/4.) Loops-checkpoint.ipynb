{
 "cells": [
  {
   "cell_type": "markdown",
   "id": "c351f79f",
   "metadata": {},
   "source": [
    "Shortcuts: </br>\n",
    "A To add any cell Above the current cell </br>\n",
    "B To add any cell Below the current cell </br>\n",
    "X To delete  the current cell </br>\n",
    "DD To delete  the current cell </br>\n",
    "Shift + Enter : To run the code and move to the next cell </br>\n",
    "Ctrl + Enter: To run the code </br>\n",
    "1 Header1 </br>\n",
    "2 Header2 </br>\n",
    "3 Header3 </br>"
   ]
  },
  {
   "cell_type": "markdown",
   "id": "355b18d7",
   "metadata": {},
   "source": [
    "# Python Loops\n",
    "- While Loop\n",
    "- For Loop"
   ]
  },
  {
   "cell_type": "markdown",
   "id": "9da5e6bf",
   "metadata": {},
   "source": [
    "# While Loop\n",
    "- This loop needs an end condition."
   ]
  },
  {
   "cell_type": "code",
   "execution_count": 3,
   "id": "997fdfe5",
   "metadata": {},
   "outputs": [
    {
     "name": "stdout",
     "output_type": "stream",
     "text": [
      "Hello  1 Times\n",
      "Hello  2 Times\n"
     ]
    }
   ],
   "source": [
    "a = 1\n",
    "\n",
    "while a < 3:\n",
    "    print(\"Hello \", a , \"Times\")\n",
    "    a+=1"
   ]
  },
  {
   "cell_type": "code",
   "execution_count": 4,
   "id": "a55259c0",
   "metadata": {},
   "outputs": [
    {
     "name": "stdout",
     "output_type": "stream",
     "text": [
      "Hello  1 Times\n",
      "Hello  2 Times\n",
      "Hello  3 Times\n"
     ]
    }
   ],
   "source": [
    "a = 1\n",
    "while a <= 3:\n",
    "    print(\"Hello \", a , \"Times\")\n",
    "    a+=1"
   ]
  },
  {
   "cell_type": "markdown",
   "id": "79323b05",
   "metadata": {},
   "source": [
    "# For Loop\n",
    "- This loop uses range value"
   ]
  },
  {
   "cell_type": "code",
   "execution_count": 5,
   "id": "3057fee2",
   "metadata": {},
   "outputs": [
    {
     "name": "stdout",
     "output_type": "stream",
     "text": [
      "Hello 0 times\n",
      "Hello 1 times\n",
      "Hello 2 times\n"
     ]
    }
   ],
   "source": [
    "for a in range(3):\n",
    "    print(\"Hello\",a,\"times\")\n",
    "    "
   ]
  },
  {
   "cell_type": "code",
   "execution_count": 8,
   "id": "e23badab",
   "metadata": {},
   "outputs": [
    {
     "data": {
      "text/plain": [
       "9"
      ]
     },
     "execution_count": 8,
     "metadata": {},
     "output_type": "execute_result"
    }
   ],
   "source": [
    "a"
   ]
  },
  {
   "cell_type": "code",
   "execution_count": 17,
   "id": "c661c339",
   "metadata": {},
   "outputs": [
    {
     "name": "stdout",
     "output_type": "stream",
     "text": [
      "Mon\n",
      "Tue\n",
      "Wed\n"
     ]
    }
   ],
   "source": [
    "# Looping in List\n",
    "days = ['Mon','Tue','Wed']\n",
    "\n",
    "for x in days:\n",
    "      print(x)\n"
   ]
  },
  {
   "cell_type": "code",
   "execution_count": 18,
   "id": "d65ef516",
   "metadata": {},
   "outputs": [
    {
     "name": "stdout",
     "output_type": "stream",
     "text": [
      "Mon\n",
      "Tue\n",
      "Wed\n"
     ]
    }
   ],
   "source": [
    "# Looping in Tuple\n",
    "tup1 = ('Mon','Tue','Wed')\n",
    "\n",
    "for x in tup1:\n",
    "      print(x)\n"
   ]
  },
  {
   "cell_type": "code",
   "execution_count": 19,
   "id": "5b2547f7",
   "metadata": {},
   "outputs": [
    {
     "name": "stdout",
     "output_type": "stream",
     "text": [
      "Wed\n",
      "Tue\n",
      "Mon\n"
     ]
    }
   ],
   "source": [
    "# Looping in Set\n",
    "set1 ={'Mon','Tue','Wed'}\n",
    "\n",
    "for x in set1:\n",
    "      print(x)"
   ]
  },
  {
   "cell_type": "code",
   "execution_count": 21,
   "id": "9ed9c3f3",
   "metadata": {
    "scrolled": true
   },
   "outputs": [
    {
     "name": "stdout",
     "output_type": "stream",
     "text": [
      "day1\n",
      "day2\n",
      "day3\n"
     ]
    }
   ],
   "source": [
    "# Looping in Dictionary\n",
    "days= {\"day1\":\"Mon\",\"day2\":\"Tue\",\"day3\": \"Wed\"}\n",
    "\n",
    "for x in days:\n",
    "      print(x)"
   ]
  },
  {
   "cell_type": "code",
   "execution_count": 23,
   "id": "dc159d50",
   "metadata": {},
   "outputs": [
    {
     "name": "stdout",
     "output_type": "stream",
     "text": [
      "Mon\n",
      "Tue\n",
      "Wed\n"
     ]
    }
   ],
   "source": [
    "# Looping in Dictionary\n",
    "days= {\"day1\":\"Mon\",\"day2\":\"Tue\",\"day3\": \"Wed\"}\n",
    "\n",
    "for x in days.values():\n",
    "      print(x)"
   ]
  },
  {
   "cell_type": "code",
   "execution_count": 24,
   "id": "9804ba06",
   "metadata": {},
   "outputs": [
    {
     "name": "stdout",
     "output_type": "stream",
     "text": [
      "('day1', 'Mon')\n",
      "('day2', 'Tue')\n",
      "('day3', 'Wed')\n"
     ]
    }
   ],
   "source": [
    "# Looping in Dictionary\n",
    "days= {\"day1\":\"Mon\",\"day2\":\"Tue\",\"day3\": \"Wed\"}\n",
    "\n",
    "for x in days.items():\n",
    "      print(x)"
   ]
  },
  {
   "cell_type": "code",
   "execution_count": 25,
   "id": "d60597a4",
   "metadata": {},
   "outputs": [
    {
     "name": "stdout",
     "output_type": "stream",
     "text": [
      "\n",
      "#\n",
      "##\n",
      "###\n",
      "####\n",
      "#####\n",
      "######\n",
      "#######\n"
     ]
    }
   ],
   "source": [
    "# Pattern using For Loop\n",
    "# for i in range(1,8):\n",
    "for i in range(8):\n",
    "    print(\"#\" *i )"
   ]
  },
  {
   "cell_type": "code",
   "execution_count": 16,
   "id": "35f21486",
   "metadata": {},
   "outputs": [
    {
     "name": "stdout",
     "output_type": "stream",
     "text": [
      "2\n",
      "3\n",
      "4\n",
      "5\n",
      "6\n",
      "7\n",
      "8\n",
      "9\n"
     ]
    }
   ],
   "source": [
    "for i in range(2,10):\n",
    "    print(i)"
   ]
  },
  {
   "cell_type": "code",
   "execution_count": 18,
   "id": "a6d77851",
   "metadata": {},
   "outputs": [
    {
     "name": "stdout",
     "output_type": "stream",
     "text": [
      "3\n",
      "5\n",
      "7\n",
      "9\n"
     ]
    }
   ],
   "source": [
    "for i in range(3,10,2):\n",
    "    print(i)"
   ]
  },
  {
   "cell_type": "markdown",
   "id": "1316bdb8",
   "metadata": {},
   "source": [
    "# Pass, Continue, Break, Else statements\n",
    "- pass: no command (no task performed)\n",
    "- break: to terminate the entire loop\n",
    "- continue: to ignore the commands after this statement in the current iteration"
   ]
  },
  {
   "cell_type": "code",
   "execution_count": 29,
   "id": "8dae42be",
   "metadata": {},
   "outputs": [
    {
     "name": "stdout",
     "output_type": "stream",
     "text": [
      "1\n",
      "3\n",
      "5\n",
      "7\n",
      "9\n",
      "loop ended\n"
     ]
    }
   ],
   "source": [
    "# pass\n",
    "# I want to print the only odd numbers from 1 to 10\n",
    "\n",
    "for i in range(1,11):\n",
    "    \n",
    "    if (i%2==0):\n",
    "        pass\n",
    "    else:\n",
    "        print(i)\n",
    "print(\"loop ended\")"
   ]
  },
  {
   "cell_type": "code",
   "execution_count": 30,
   "id": "974adbdf",
   "metadata": {},
   "outputs": [
    {
     "name": "stdout",
     "output_type": "stream",
     "text": [
      "1\n",
      "3\n",
      "5\n",
      "7\n",
      "9\n",
      "loop ended\n"
     ]
    }
   ],
   "source": [
    "# pass\n",
    "# to print the only even numbers from 1 to 10\n",
    "\n",
    "i=1\n",
    "while i < 11:\n",
    "    if(i%2==0):\n",
    "        pass\n",
    "    else:\n",
    "        print(i)\n",
    "    i+=1\n",
    "print(\"loop ended\") "
   ]
  },
  {
   "cell_type": "code",
   "execution_count": 31,
   "id": "48110c35",
   "metadata": {},
   "outputs": [
    {
     "name": "stdout",
     "output_type": "stream",
     "text": [
      "5\n",
      "10\n",
      "15\n",
      "20\n",
      "25\n",
      "30\n",
      "35\n",
      "40\n",
      "45\n",
      "50\n",
      "loop ended\n"
     ]
    }
   ],
   "source": [
    "# Continue\n",
    "# to print the numbers which are divisible by 5 among 1 to 50.\n",
    "\n",
    "for i in range(1,51):\n",
    "    if (i%5!=0):\n",
    "        continue\n",
    "    else:\n",
    "        print(i)\n",
    "print(\"loop ended\") "
   ]
  },
  {
   "cell_type": "code",
   "execution_count": 33,
   "id": "3b110d26",
   "metadata": {},
   "outputs": [
    {
     "name": "stdout",
     "output_type": "stream",
     "text": [
      "5\n",
      "10\n",
      "15\n",
      "20\n",
      "25\n",
      "30\n",
      "35\n",
      "40\n",
      "45\n",
      "50\n",
      "loop ended\n"
     ]
    }
   ],
   "source": [
    "#Continue\n",
    "#I want to print the numbers which are divisible by 5 among 1 to 50.\n",
    "\n",
    "i = 5\n",
    "\n",
    "while i < 51:\n",
    "    if(i%5!=0):\n",
    "        continue\n",
    "    else:\n",
    "        print(i)\n",
    "    i+=5\n",
    "print(\"loop ended\") "
   ]
  },
  {
   "cell_type": "code",
   "execution_count": null,
   "id": "e6007355",
   "metadata": {},
   "outputs": [],
   "source": [
    "# break\n",
    "# imagine in a wending machine there are 5 candies and when \n",
    "# user enters value more than that, it should display \"out of stock\"."
   ]
  },
  {
   "cell_type": "code",
   "execution_count": 40,
   "id": "21ed4679",
   "metadata": {},
   "outputs": [
    {
     "name": "stdout",
     "output_type": "stream",
     "text": [
      "how many candies you want?6\n",
      "Oh! You want 6 candies!\n",
      "Sorry! We are out of candies.. Come tomorrow!\n"
     ]
    }
   ],
   "source": [
    "stock = 5\n",
    "x = int(input(\"how many candies you want?\"))\n",
    "print(\"Oh! You want\", x, \"candies!\")\n",
    "\n",
    "if (x > stock):\n",
    "    print(\"Sorry! We are out of candies.. Come tomorrow!\")\n",
    "else:\n",
    "    print(\"Here are your\",x,\"candies!\")\n"
   ]
  },
  {
   "cell_type": "code",
   "execution_count": 41,
   "id": "f4ffb7ca",
   "metadata": {},
   "outputs": [
    {
     "name": "stdout",
     "output_type": "stream",
     "text": [
      "Here's your candy!\n",
      "Here's your candy!\n",
      "Here's your candy!\n",
      "Here's your candy!\n",
      "Here's your candy!\n",
      "Here's your candy!\n",
      "loop ended\n"
     ]
    }
   ],
   "source": [
    "for i in range(x):\n",
    "    if i > stock:\n",
    "        print(\"Sorry! We are out of candies.. Come tomorrow!\")\n",
    "        break\n",
    "    else:\n",
    "        print(\"Here's your candy!\")\n",
    "        \n",
    "print(\"loop ended\")  "
   ]
  },
  {
   "cell_type": "code",
   "execution_count": 42,
   "id": "95f5e9c0",
   "metadata": {},
   "outputs": [
    {
     "name": "stdout",
     "output_type": "stream",
     "text": [
      "how many candies you want?6\n",
      "Oh! You want 6 candies\n",
      "here is your candy\n",
      "here is your candy\n",
      "here is your candy\n",
      "here is your candy\n",
      "here is your candy\n",
      "sorry We are out of candies.come tomorrow\n",
      "loop ended\n"
     ]
    }
   ],
   "source": [
    "#break\n",
    "#imagine in a wending machine there are 5 candies and when user enters value more that that it should display \"out of stock\".\n",
    "i = 1\n",
    "stock = 5\n",
    "x = int(input(\"how many candies you want?\"))\n",
    "print(\"Oh! You want\", x, \"candies\")\n",
    "\n",
    "while i < 100:\n",
    "    if i > stock:\n",
    "        print(\"sorry We are out of candies.come tomorrow\")\n",
    "        break\n",
    "    else:\n",
    "        print(\"here is your candy\")\n",
    "    i+=1\n",
    "print(\"loop ended\")    "
   ]
  },
  {
   "cell_type": "markdown",
   "id": "b47d0394",
   "metadata": {},
   "source": [
    "# Nested Loops"
   ]
  },
  {
   "cell_type": "code",
   "execution_count": 44,
   "id": "c7080745",
   "metadata": {},
   "outputs": [],
   "source": [
    "a = [1,2,3]\n",
    "b = [\"a\",\"b\",\"c\"]"
   ]
  },
  {
   "cell_type": "code",
   "execution_count": 45,
   "id": "ca1eed55",
   "metadata": {},
   "outputs": [
    {
     "name": "stdout",
     "output_type": "stream",
     "text": [
      "1 a\n",
      "1 b\n",
      "1 c\n",
      "2 a\n",
      "2 b\n",
      "2 c\n",
      "3 a\n",
      "3 b\n",
      "3 c\n"
     ]
    }
   ],
   "source": [
    "for p in a:\n",
    "    for q in b:\n",
    "        print(p,q)"
   ]
  },
  {
   "cell_type": "code",
   "execution_count": 46,
   "id": "05f5f871",
   "metadata": {},
   "outputs": [
    {
     "name": "stdout",
     "output_type": "stream",
     "text": [
      "1 a\n",
      "1 b\n",
      "1 c\n",
      "2 a\n",
      "2 b\n",
      "2 c\n",
      "3 a\n",
      "3 b\n",
      "3 c\n"
     ]
    }
   ],
   "source": [
    "a = [1,2,3]\n",
    "b = [\"a\",\"b\",\"c\"]\n",
    "\n",
    "for i in a:\n",
    "    for j in b:\n",
    "        print(i,j)"
   ]
  },
  {
   "cell_type": "code",
   "execution_count": 48,
   "id": "a761cb77",
   "metadata": {},
   "outputs": [],
   "source": [
    "for i in range(10):\n",
    "    pass"
   ]
  },
  {
   "cell_type": "code",
   "execution_count": 49,
   "id": "a9f466df",
   "metadata": {},
   "outputs": [],
   "source": [
    "for i in range(10):\n",
    "    pass"
   ]
  },
  {
   "cell_type": "code",
   "execution_count": 55,
   "id": "d0c0766a",
   "metadata": {},
   "outputs": [
    {
     "name": "stdout",
     "output_type": "stream",
     "text": [
      "H\n",
      "l\n",
      "l\n",
      "o\n"
     ]
    }
   ],
   "source": [
    "# Continue statement\n",
    "name = \"Hello\"\n",
    "\n",
    "for i in name:\n",
    "    if i == 'e':\n",
    "        #print('Continue executed')\n",
    "        continue\n",
    "    else:\n",
    "        print(i)"
   ]
  },
  {
   "cell_type": "code",
   "execution_count": 56,
   "id": "6582074e",
   "metadata": {},
   "outputs": [
    {
     "name": "stdout",
     "output_type": "stream",
     "text": [
      "H\n",
      "Break executed\n"
     ]
    }
   ],
   "source": [
    "# Break statement\n",
    "name = \"Hello\"\n",
    "\n",
    "for i in name:\n",
    "    if i == 'e':\n",
    "        print('Break executed')\n",
    "        break\n",
    "    else:\n",
    "        print(i)"
   ]
  },
  {
   "cell_type": "code",
   "execution_count": 57,
   "id": "9d0056c5",
   "metadata": {},
   "outputs": [
    {
     "name": "stdout",
     "output_type": "stream",
     "text": [
      "H\n",
      "Yes\n",
      "l\n",
      "l\n",
      "o\n"
     ]
    }
   ],
   "source": [
    "# Pass statement\n",
    "name = \"Hello\"\n",
    "\n",
    "for i in name:\n",
    "    if i == 'e':\n",
    "        print('Yes')\n",
    "    else:\n",
    "        print(i)"
   ]
  },
  {
   "cell_type": "code",
   "execution_count": 65,
   "id": "09ba79d9",
   "metadata": {},
   "outputs": [
    {
     "name": "stdout",
     "output_type": "stream",
     "text": [
      "else executed\n",
      "o\n"
     ]
    }
   ],
   "source": [
    "# indentation\n",
    "# else statement\n",
    "name = \"Hello\"\n",
    "\n",
    "for i in name:\n",
    "    if i == 'e':\n",
    "        print('else executed')\n",
    "else:\n",
    "    print(i)"
   ]
  },
  {
   "cell_type": "markdown",
   "id": "1f823f72",
   "metadata": {},
   "source": [
    "# While loop"
   ]
  },
  {
   "cell_type": "code",
   "execution_count": 67,
   "id": "81b3412e",
   "metadata": {},
   "outputs": [
    {
     "name": "stdout",
     "output_type": "stream",
     "text": [
      "7\n",
      "2\n",
      "3\n",
      "1\n",
      "5\n",
      "End\n"
     ]
    }
   ],
   "source": [
    "# Break statement\n",
    "nums = [7, 2, 3, 1, 5, 4, 6, 8, 9]\n",
    "count = 0\n",
    "while count < 7:\n",
    "    print(nums[count])\n",
    "    count += 1\n",
    "    if nums[count] == 4:\n",
    "        break\n",
    "print(\"End\")\n"
   ]
  },
  {
   "cell_type": "code",
   "execution_count": 68,
   "id": "e6a791f7",
   "metadata": {},
   "outputs": [
    {
     "name": "stdout",
     "output_type": "stream",
     "text": [
      "7\n",
      "2\n",
      "3\n",
      "1\n",
      "5\n",
      "4\n",
      "6\n",
      "End\n"
     ]
    }
   ],
   "source": [
    "# Pass statement\n",
    "nums = [7, 2, 3, 1, 5, 4, 6, 8, 9]\n",
    "count = 0\n",
    "while count < 7:\n",
    "    print(nums[count])\n",
    "    count += 1\n",
    "    if nums[count] == 4:\n",
    "        pass\n",
    "print(\"End\")\n"
   ]
  },
  {
   "cell_type": "code",
   "execution_count": 69,
   "id": "95e8b4a3",
   "metadata": {},
   "outputs": [
    {
     "name": "stdout",
     "output_type": "stream",
     "text": [
      "7\n",
      "2\n",
      "3\n",
      "1\n",
      "5\n",
      "4\n",
      "6\n",
      "End\n"
     ]
    }
   ],
   "source": [
    "# Continue statement\n",
    "nums = [7, 2, 3, 1, 5, 4, 6, 8, 9]\n",
    "count = 0\n",
    "while count < 7:\n",
    "    print(nums[count])\n",
    "    count += 1\n",
    "    if nums[count] == 4:\n",
    "        continue\n",
    "print(\"End\")"
   ]
  },
  {
   "cell_type": "code",
   "execution_count": 70,
   "id": "2c351110",
   "metadata": {},
   "outputs": [
    {
     "name": "stdout",
     "output_type": "stream",
     "text": [
      "1\n",
      "2\n",
      "3\n",
      "4\n",
      "This is the else block executing\n"
     ]
    }
   ],
   "source": [
    "# else statement\n",
    "i = 0\n",
    "while i < 4:\n",
    "    i += 1\n",
    "    print(i)\n",
    "else:  # Not executed as there is a break\n",
    "    print(\"This is the else block executing\")"
   ]
  }
 ],
 "metadata": {
  "kernelspec": {
   "display_name": "Python 3 (ipykernel)",
   "language": "python",
   "name": "python3"
  },
  "language_info": {
   "codemirror_mode": {
    "name": "ipython",
    "version": 3
   },
   "file_extension": ".py",
   "mimetype": "text/x-python",
   "name": "python",
   "nbconvert_exporter": "python",
   "pygments_lexer": "ipython3",
   "version": "3.9.7"
  }
 },
 "nbformat": 4,
 "nbformat_minor": 5
}
