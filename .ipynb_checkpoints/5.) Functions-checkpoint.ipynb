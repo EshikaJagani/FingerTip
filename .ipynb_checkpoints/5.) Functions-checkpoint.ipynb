{
 "cells": [
  {
   "cell_type": "code",
   "execution_count": 1,
   "id": "2ffffdf5",
   "metadata": {},
   "outputs": [
    {
     "name": "stdout",
     "output_type": "stream",
     "text": [
      "Hello\n"
     ]
    }
   ],
   "source": [
    "print(\"Hello\")"
   ]
  },
  {
   "cell_type": "code",
   "execution_count": 2,
   "id": "6fe3af06",
   "metadata": {},
   "outputs": [
    {
     "data": {
      "text/plain": [
       "builtin_function_or_method"
      ]
     },
     "execution_count": 2,
     "metadata": {},
     "output_type": "execute_result"
    }
   ],
   "source": [
    "type(print)"
   ]
  },
  {
   "cell_type": "code",
   "execution_count": 3,
   "id": "dda24d8d",
   "metadata": {},
   "outputs": [],
   "source": [
    "def hi(a):\n",
    "    print(\"Hello\",a)"
   ]
  },
  {
   "cell_type": "code",
   "execution_count": 4,
   "id": "57bf2a79",
   "metadata": {},
   "outputs": [
    {
     "name": "stdout",
     "output_type": "stream",
     "text": [
      "Hello Python\n"
     ]
    }
   ],
   "source": [
    "hi(\"Python\")"
   ]
  },
  {
   "cell_type": "code",
   "execution_count": 5,
   "id": "94f21044",
   "metadata": {},
   "outputs": [],
   "source": [
    "def Math(a=2,b=4):\n",
    "    x=a+b\n",
    "    y=a*b\n",
    "    print(\"Addition =\",x)\n",
    "    print(\"Multiplication =\",y)"
   ]
  },
  {
   "cell_type": "code",
   "execution_count": 6,
   "id": "d92ca4ba",
   "metadata": {},
   "outputs": [
    {
     "name": "stdout",
     "output_type": "stream",
     "text": [
      "Addition = 15\n",
      "Multiplication = 50\n"
     ]
    }
   ],
   "source": [
    "Math(5,10)"
   ]
  },
  {
   "cell_type": "code",
   "execution_count": 7,
   "id": "13b71431",
   "metadata": {},
   "outputs": [
    {
     "name": "stdout",
     "output_type": "stream",
     "text": [
      "Addition = 45\n",
      "Multiplication = 500\n"
     ]
    }
   ],
   "source": [
    "Math(20,25)"
   ]
  },
  {
   "cell_type": "code",
   "execution_count": 8,
   "id": "a97cf515",
   "metadata": {},
   "outputs": [
    {
     "name": "stdout",
     "output_type": "stream",
     "text": [
      "Addition = 6\n",
      "Multiplication = 8\n"
     ]
    }
   ],
   "source": [
    "Math()"
   ]
  },
  {
   "cell_type": "code",
   "execution_count": 9,
   "id": "63f3a1ac",
   "metadata": {},
   "outputs": [],
   "source": [
    "def abc(a=\"India\"):\n",
    "    print(\"I love\",a)"
   ]
  },
  {
   "cell_type": "code",
   "execution_count": 10,
   "id": "721840c5",
   "metadata": {},
   "outputs": [
    {
     "name": "stdout",
     "output_type": "stream",
     "text": [
      "I love Python\n"
     ]
    }
   ],
   "source": [
    "abc(\"Python\")"
   ]
  },
  {
   "cell_type": "code",
   "execution_count": 11,
   "id": "a811854f",
   "metadata": {},
   "outputs": [
    {
     "name": "stdout",
     "output_type": "stream",
     "text": [
      "I love India\n"
     ]
    }
   ],
   "source": [
    "abc()"
   ]
  },
  {
   "cell_type": "code",
   "execution_count": 12,
   "id": "c96b2780",
   "metadata": {},
   "outputs": [],
   "source": [
    "def x():\n",
    "    print(\"Hello\")"
   ]
  },
  {
   "cell_type": "code",
   "execution_count": 13,
   "id": "74aa6011",
   "metadata": {},
   "outputs": [
    {
     "name": "stdout",
     "output_type": "stream",
     "text": [
      "Hello\n"
     ]
    }
   ],
   "source": [
    "x()"
   ]
  },
  {
   "cell_type": "code",
   "execution_count": 15,
   "id": "378036fe",
   "metadata": {},
   "outputs": [],
   "source": [
    "def FT(*n):\n",
    "    print(n)"
   ]
  },
  {
   "cell_type": "code",
   "execution_count": 16,
   "id": "7af1f0b2",
   "metadata": {},
   "outputs": [
    {
     "name": "stdout",
     "output_type": "stream",
     "text": [
      "(2, 5, 6, 7, 8, 10, 1, 2, 5, 6, 'Hello')\n"
     ]
    }
   ],
   "source": [
    "FT(2,5,6,7,8,10,1,2,5,6,\"Hello\")"
   ]
  },
  {
   "cell_type": "code",
   "execution_count": 17,
   "id": "036ea0c7",
   "metadata": {},
   "outputs": [],
   "source": [
    "def mul(*numbers):\n",
    "    a=1\n",
    "    for i in numbers:\n",
    "        a=a*i\n",
    "    print(a)    "
   ]
  },
  {
   "cell_type": "code",
   "execution_count": 18,
   "id": "54a27094",
   "metadata": {},
   "outputs": [
    {
     "name": "stdout",
     "output_type": "stream",
     "text": [
      "105\n"
     ]
    }
   ],
   "source": [
    "mul(3,5,7)"
   ]
  },
  {
   "cell_type": "code",
   "execution_count": 19,
   "id": "10a39d5e",
   "metadata": {},
   "outputs": [],
   "source": [
    "def func1():\n",
    "      print(\"Hello from a first function\")\n"
   ]
  },
  {
   "cell_type": "code",
   "execution_count": 20,
   "id": "1256a1db",
   "metadata": {},
   "outputs": [
    {
     "name": "stdout",
     "output_type": "stream",
     "text": [
      "Hello from a first function\n"
     ]
    }
   ],
   "source": [
    "func1()"
   ]
  },
  {
   "cell_type": "code",
   "execution_count": 21,
   "id": "d8ff9f48",
   "metadata": {},
   "outputs": [
    {
     "data": {
      "text/plain": [
       "<function __main__.func1()>"
      ]
     },
     "execution_count": 21,
     "metadata": {},
     "output_type": "execute_result"
    }
   ],
   "source": [
    "func1"
   ]
  },
  {
   "cell_type": "code",
   "execution_count": 22,
   "id": "afc3cee2",
   "metadata": {},
   "outputs": [],
   "source": [
    "def temp(a,b):\n",
    "    z=a*b+a+b\n",
    "    print(z)"
   ]
  },
  {
   "cell_type": "code",
   "execution_count": 23,
   "id": "2cf83ee7",
   "metadata": {},
   "outputs": [
    {
     "name": "stdout",
     "output_type": "stream",
     "text": [
      "17\n"
     ]
    }
   ],
   "source": [
    "temp(5,2)"
   ]
  },
  {
   "cell_type": "code",
   "execution_count": 24,
   "id": "c3eea334",
   "metadata": {},
   "outputs": [],
   "source": [
    "def mul(a,b):\n",
    "    print(a*b)"
   ]
  },
  {
   "cell_type": "code",
   "execution_count": 25,
   "id": "85130ca3",
   "metadata": {},
   "outputs": [
    {
     "name": "stdout",
     "output_type": "stream",
     "text": [
      "6\n"
     ]
    }
   ],
   "source": [
    "mul(2,3)"
   ]
  },
  {
   "cell_type": "code",
   "execution_count": 26,
   "id": "0ba975c2",
   "metadata": {},
   "outputs": [
    {
     "name": "stdout",
     "output_type": "stream",
     "text": [
      "Hello from a first function\n"
     ]
    }
   ],
   "source": [
    "func1()"
   ]
  },
  {
   "cell_type": "code",
   "execution_count": 27,
   "id": "1690140f",
   "metadata": {},
   "outputs": [],
   "source": [
    "def added(a,b):\n",
    "    print(a + b)"
   ]
  },
  {
   "cell_type": "code",
   "execution_count": 30,
   "id": "ce14f51d",
   "metadata": {},
   "outputs": [
    {
     "name": "stdout",
     "output_type": "stream",
     "text": [
      "5\n"
     ]
    }
   ],
   "source": [
    "added(2,3)"
   ]
  },
  {
   "cell_type": "code",
   "execution_count": 31,
   "id": "0f7dd50c",
   "metadata": {},
   "outputs": [],
   "source": [
    "def mu(a=5,b=10):\n",
    "    print(a*b)"
   ]
  },
  {
   "cell_type": "code",
   "execution_count": 32,
   "id": "993d6a04",
   "metadata": {},
   "outputs": [
    {
     "name": "stdout",
     "output_type": "stream",
     "text": [
      "12\n"
     ]
    }
   ],
   "source": [
    "mu(4,3)"
   ]
  },
  {
   "cell_type": "code",
   "execution_count": 35,
   "id": "03c30701",
   "metadata": {},
   "outputs": [
    {
     "name": "stdout",
     "output_type": "stream",
     "text": [
      "40\n"
     ]
    }
   ],
   "source": [
    "mu(4)"
   ]
  },
  {
   "cell_type": "code",
   "execution_count": 36,
   "id": "54cf613c",
   "metadata": {},
   "outputs": [
    {
     "name": "stdout",
     "output_type": "stream",
     "text": [
      "50\n"
     ]
    }
   ],
   "source": [
    "mu()"
   ]
  },
  {
   "cell_type": "code",
   "execution_count": 37,
   "id": "3dfd0db3",
   "metadata": {},
   "outputs": [],
   "source": [
    "def greeting(name):\n",
    "    return name"
   ]
  },
  {
   "cell_type": "code",
   "execution_count": 38,
   "id": "c9b04bbc",
   "metadata": {},
   "outputs": [
    {
     "data": {
      "text/plain": [
       "'Eshika'"
      ]
     },
     "execution_count": 38,
     "metadata": {},
     "output_type": "execute_result"
    }
   ],
   "source": [
    "greeting(\"Eshika\")"
   ]
  },
  {
   "cell_type": "code",
   "execution_count": 39,
   "id": "d71dbe8d",
   "metadata": {},
   "outputs": [],
   "source": [
    "def splitter(name):\n",
    "    for i in name:\n",
    "        print(i)\n",
    "    "
   ]
  },
  {
   "cell_type": "code",
   "execution_count": 40,
   "id": "dc4985ca",
   "metadata": {},
   "outputs": [
    {
     "name": "stdout",
     "output_type": "stream",
     "text": [
      "E\n",
      "s\n",
      "h\n",
      "i\n",
      "k\n",
      "a\n"
     ]
    }
   ],
   "source": [
    "splitter(\"Eshika\")"
   ]
  },
  {
   "cell_type": "code",
   "execution_count": 41,
   "id": "9f4e0474",
   "metadata": {},
   "outputs": [],
   "source": [
    "def multiple(*numbers):\n",
    "    print(numbers)  \n",
    "    "
   ]
  },
  {
   "cell_type": "code",
   "execution_count": 42,
   "id": "937420fd",
   "metadata": {},
   "outputs": [
    {
     "name": "stdout",
     "output_type": "stream",
     "text": [
      "(5, 6, 7, 20, 1, 2)\n"
     ]
    }
   ],
   "source": [
    "multiple(5,6,7,20,1,2)"
   ]
  },
  {
   "cell_type": "code",
   "execution_count": 43,
   "id": "5021e448",
   "metadata": {},
   "outputs": [],
   "source": [
    "def multiple(*n):\n",
    "    ans=1\n",
    "    for i in n:\n",
    "        ans=ans*i\n",
    "    print(ans)"
   ]
  },
  {
   "cell_type": "code",
   "execution_count": 44,
   "id": "1c722fd6",
   "metadata": {},
   "outputs": [
    {
     "name": "stdout",
     "output_type": "stream",
     "text": [
      "24\n"
     ]
    }
   ],
   "source": [
    "multiple(2,3,4)"
   ]
  },
  {
   "cell_type": "code",
   "execution_count": 45,
   "id": "afbdc844",
   "metadata": {},
   "outputs": [
    {
     "name": "stdout",
     "output_type": "stream",
     "text": [
      "2000\n"
     ]
    }
   ],
   "source": [
    "multiple(1,5,10,20,2)"
   ]
  },
  {
   "cell_type": "code",
   "execution_count": 47,
   "id": "1fdbd6cc",
   "metadata": {},
   "outputs": [],
   "source": [
    "def default(country = \"India\"):\n",
    "      print(\"I am from \" + country)\n"
   ]
  },
  {
   "cell_type": "code",
   "execution_count": 48,
   "id": "1703c584",
   "metadata": {},
   "outputs": [
    {
     "name": "stdout",
     "output_type": "stream",
     "text": [
      "I am from India\n"
     ]
    }
   ],
   "source": [
    "default()"
   ]
  },
  {
   "cell_type": "markdown",
   "id": "2b1a5516",
   "metadata": {},
   "source": [
    "# Return value"
   ]
  },
  {
   "cell_type": "code",
   "execution_count": 50,
   "id": "09453344",
   "metadata": {},
   "outputs": [],
   "source": [
    "def return_square(x):\n",
    "      return x * x\n"
   ]
  },
  {
   "cell_type": "code",
   "execution_count": 51,
   "id": "6aaf4f0a",
   "metadata": {},
   "outputs": [
    {
     "data": {
      "text/plain": [
       "16"
      ]
     },
     "execution_count": 51,
     "metadata": {},
     "output_type": "execute_result"
    }
   ],
   "source": [
    "return_square(4)"
   ]
  },
  {
   "cell_type": "code",
   "execution_count": 52,
   "id": "8235294f",
   "metadata": {},
   "outputs": [],
   "source": [
    "def return_specific(x):\n",
    "    a = x\n",
    "    b = x * x \n",
    "    c = x * x * x\n",
    "    d = a + b + c \n",
    "    return d,a,b,c"
   ]
  },
  {
   "cell_type": "code",
   "execution_count": 53,
   "id": "23cfc4e6",
   "metadata": {},
   "outputs": [
    {
     "data": {
      "text/plain": [
       "(155, 5, 25, 125)"
      ]
     },
     "execution_count": 53,
     "metadata": {},
     "output_type": "execute_result"
    }
   ],
   "source": [
    "return_specific(5)"
   ]
  },
  {
   "cell_type": "code",
   "execution_count": 54,
   "id": "9aca82a5",
   "metadata": {
    "scrolled": true
   },
   "outputs": [
    {
     "ename": "IndentationError",
     "evalue": "expected an indented block (Temp/ipykernel_12652/3744687116.py, line 1)",
     "output_type": "error",
     "traceback": [
      "\u001b[1;36m  File \u001b[1;32m\"C:\\Users\\eshik\\AppData\\Local\\Temp/ipykernel_12652/3744687116.py\"\u001b[1;36m, line \u001b[1;32m1\u001b[0m\n\u001b[1;33m    def blankfunction():\u001b[0m\n\u001b[1;37m                        ^\u001b[0m\n\u001b[1;31mIndentationError\u001b[0m\u001b[1;31m:\u001b[0m expected an indented block\n"
     ]
    }
   ],
   "source": [
    "def blankfunction():"
   ]
  },
  {
   "cell_type": "code",
   "execution_count": 55,
   "id": "16054d15",
   "metadata": {},
   "outputs": [],
   "source": [
    "def blankfunction():\n",
    "      pass\n"
   ]
  },
  {
   "cell_type": "code",
   "execution_count": 56,
   "id": "5ddfa036",
   "metadata": {},
   "outputs": [],
   "source": [
    "blankfunction()"
   ]
  },
  {
   "cell_type": "markdown",
   "id": "9ba2bede",
   "metadata": {},
   "source": [
    "### Factorial\n",
    "5! = 5 * 4 * 3 * 2 * 1 = 120"
   ]
  },
  {
   "cell_type": "code",
   "execution_count": 61,
   "id": "f04f34d3",
   "metadata": {},
   "outputs": [],
   "source": [
    "def fact1(a):\n",
    "    fact= 1\n",
    "    for i in range(1,a+1):\n",
    "        fact = fact * i\n",
    "    return fact  "
   ]
  },
  {
   "cell_type": "code",
   "execution_count": 63,
   "id": "78059ab8",
   "metadata": {},
   "outputs": [
    {
     "data": {
      "text/plain": [
       "120"
      ]
     },
     "execution_count": 63,
     "metadata": {},
     "output_type": "execute_result"
    }
   ],
   "source": [
    "fact1(5)"
   ]
  },
  {
   "cell_type": "markdown",
   "id": "08a86801",
   "metadata": {},
   "source": [
    "1 </br>\n",
    "1 * 2 = 2 </br>\n",
    "2 * 3 = 6 </br>\n",
    "6 * 4 = 24 </br>\n",
    "24 * 5 = 120 </br>"
   ]
  },
  {
   "cell_type": "markdown",
   "id": "692b0f89",
   "metadata": {},
   "source": [
    "# Recursive function"
   ]
  },
  {
   "cell_type": "code",
   "execution_count": 65,
   "id": "c0feae6c",
   "metadata": {},
   "outputs": [],
   "source": [
    "def fact(x):\n",
    "    x = int(x)\n",
    "    \n",
    "    if x < 1:\n",
    "        return 1\n",
    "    else:\n",
    "        return x * fact(x-1)"
   ]
  },
  {
   "cell_type": "code",
   "execution_count": 66,
   "id": "dfd39c21",
   "metadata": {},
   "outputs": [
    {
     "data": {
      "text/plain": [
       "120"
      ]
     },
     "execution_count": 66,
     "metadata": {},
     "output_type": "execute_result"
    }
   ],
   "source": [
    "fact(5)"
   ]
  },
  {
   "cell_type": "markdown",
   "id": "9dcc55d1",
   "metadata": {},
   "source": [
    "5 * fact(4) </br>\n",
    "5 * 4 * fact(3) </br>\n",
    "5 * 4 * 3 * fact(2) </br>\n",
    "5 * 4 * 3 * 2 * 1 = 120 \n"
   ]
  },
  {
   "cell_type": "code",
   "execution_count": 67,
   "id": "dddb1ed7",
   "metadata": {},
   "outputs": [
    {
     "data": {
      "text/plain": [
       "120"
      ]
     },
     "execution_count": 67,
     "metadata": {},
     "output_type": "execute_result"
    }
   ],
   "source": [
    "fact(5)"
   ]
  },
  {
   "cell_type": "code",
   "execution_count": 68,
   "id": "9974859a",
   "metadata": {},
   "outputs": [
    {
     "data": {
      "text/plain": [
       "120"
      ]
     },
     "execution_count": 68,
     "metadata": {},
     "output_type": "execute_result"
    }
   ],
   "source": [
    "5 * fact(4)"
   ]
  },
  {
   "cell_type": "code",
   "execution_count": 69,
   "id": "a55a1da3",
   "metadata": {},
   "outputs": [
    {
     "data": {
      "text/plain": [
       "120"
      ]
     },
     "execution_count": 69,
     "metadata": {},
     "output_type": "execute_result"
    }
   ],
   "source": [
    "5 * 4 * fact(3)"
   ]
  },
  {
   "cell_type": "code",
   "execution_count": 70,
   "id": "afe7aafd",
   "metadata": {},
   "outputs": [
    {
     "data": {
      "text/plain": [
       "120"
      ]
     },
     "execution_count": 70,
     "metadata": {},
     "output_type": "execute_result"
    }
   ],
   "source": [
    "5 * 4 * 3 * fact(2)\n",
    "5 * 4 * 3 * 2 * fact(1)\n",
    "5 * 4 * 3 * 2 * 1"
   ]
  },
  {
   "cell_type": "code",
   "execution_count": 71,
   "id": "711cc32e",
   "metadata": {},
   "outputs": [
    {
     "data": {
      "text/plain": [
       "120"
      ]
     },
     "execution_count": 71,
     "metadata": {},
     "output_type": "execute_result"
    }
   ],
   "source": [
    "fact(5)"
   ]
  },
  {
   "cell_type": "markdown",
   "id": "67ce1bb2",
   "metadata": {},
   "source": [
    "# Lamda Functions"
   ]
  },
  {
   "cell_type": "code",
   "execution_count": 73,
   "id": "916f7872",
   "metadata": {},
   "outputs": [],
   "source": [
    "x = lambda a : a + 10"
   ]
  },
  {
   "cell_type": "code",
   "execution_count": 74,
   "id": "3a997e7b",
   "metadata": {},
   "outputs": [
    {
     "data": {
      "text/plain": [
       "15"
      ]
     },
     "execution_count": 74,
     "metadata": {},
     "output_type": "execute_result"
    }
   ],
   "source": [
    "x(5)"
   ]
  },
  {
   "cell_type": "code",
   "execution_count": 77,
   "id": "3451a20c",
   "metadata": {},
   "outputs": [],
   "source": [
    "x = lambda a, b : a * b"
   ]
  },
  {
   "cell_type": "code",
   "execution_count": 78,
   "id": "321dd9ec",
   "metadata": {},
   "outputs": [
    {
     "data": {
      "text/plain": [
       "30"
      ]
     },
     "execution_count": 78,
     "metadata": {},
     "output_type": "execute_result"
    }
   ],
   "source": [
    "x(5,6)"
   ]
  }
 ],
 "metadata": {
  "kernelspec": {
   "display_name": "Python 3 (ipykernel)",
   "language": "python",
   "name": "python3"
  },
  "language_info": {
   "codemirror_mode": {
    "name": "ipython",
    "version": 3
   },
   "file_extension": ".py",
   "mimetype": "text/x-python",
   "name": "python",
   "nbconvert_exporter": "python",
   "pygments_lexer": "ipython3",
   "version": "3.9.7"
  }
 },
 "nbformat": 4,
 "nbformat_minor": 5
}
