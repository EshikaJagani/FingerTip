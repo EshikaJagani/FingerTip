{
 "cells": [
  {
   "cell_type": "markdown",
   "id": "22322959",
   "metadata": {},
   "source": [
    "### PRINT Command"
   ]
  },
  {
   "cell_type": "code",
   "execution_count": 3,
   "id": "299ed51b",
   "metadata": {
    "scrolled": true
   },
   "outputs": [
    {
     "name": "stdout",
     "output_type": "stream",
     "text": [
      "Statement to be printed!\n"
     ]
    }
   ],
   "source": [
    "print('Statement to be printed!')"
   ]
  },
  {
   "cell_type": "code",
   "execution_count": 26,
   "id": "53d201ce",
   "metadata": {},
   "outputs": [
    {
     "data": {
      "text/plain": [
       "2"
      ]
     },
     "execution_count": 26,
     "metadata": {},
     "output_type": "execute_result"
    }
   ],
   "source": [
    "# To print w/o using PRINT Command\n",
    "a=2\n",
    "a"
   ]
  },
  {
   "cell_type": "code",
   "execution_count": 27,
   "id": "be8551f3",
   "metadata": {},
   "outputs": [
    {
     "data": {
      "text/plain": [
       "3"
      ]
     },
     "execution_count": 27,
     "metadata": {},
     "output_type": "execute_result"
    }
   ],
   "source": [
    "# For multiple arguments, value of LAST mentioned varible gets printed\n",
    "a=1\n",
    "b=2\n",
    "c=3\n",
    "a\n",
    "b\n",
    "c"
   ]
  },
  {
   "cell_type": "code",
   "execution_count": 33,
   "id": "18faf7ca",
   "metadata": {},
   "outputs": [
    {
     "name": "stdout",
     "output_type": "stream",
     "text": [
      "1\n",
      "2\n",
      "3\n",
      "-----------\n",
      "1 2 3\n"
     ]
    }
   ],
   "source": [
    "# To print all the values\n",
    "print(a)\n",
    "print(b)\n",
    "print(c)\n",
    "print(\"-----------\")\n",
    "print(a,b,c)"
   ]
  },
  {
   "cell_type": "code",
   "execution_count": 36,
   "id": "8f903fea",
   "metadata": {},
   "outputs": [
    {
     "name": "stdout",
     "output_type": "stream",
     "text": [
      "10 Bro 30\n"
     ]
    }
   ],
   "source": [
    "# To assign values in one Command\n",
    "# No. of Variables and Values must be same\n",
    "a,b,c= 10, 'Bro', 30\n",
    "print(a,b,c)"
   ]
  },
  {
   "cell_type": "markdown",
   "id": "c6b13c26",
   "metadata": {},
   "source": [
    "### Python Variables "
   ]
  },
  {
   "cell_type": "code",
   "execution_count": 6,
   "id": "a5123614",
   "metadata": {},
   "outputs": [
    {
     "name": "stdout",
     "output_type": "stream",
     "text": [
      "100\n"
     ]
    }
   ],
   "source": [
    "value = 100\n",
    "print(value)"
   ]
  },
  {
   "cell_type": "code",
   "execution_count": 10,
   "id": "4a87f1c4",
   "metadata": {},
   "outputs": [
    {
     "name": "stdout",
     "output_type": "stream",
     "text": [
      "10\n",
      "20\n",
      "30\n",
      "40\n"
     ]
    }
   ],
   "source": [
    "#names of variables are case-sensitive\n",
    "var=10\n",
    "Var=20\n",
    "vAr=30\n",
    "vaR=40\n",
    "print(var)\n",
    "print(Var)\n",
    "print(vAr)\n",
    "print(vaR)"
   ]
  },
  {
   "cell_type": "code",
   "execution_count": 23,
   "id": "718ef775",
   "metadata": {},
   "outputs": [],
   "source": [
    "#    valid variable names:\n",
    "# myvar, my_var, _my_var, myVar, MYVAR, myvar2, my_var2, my_var_2 \n",
    "#    invalid variable names:\n",
    "# 2myvar, my-var, my var, @var, v$r "
   ]
  },
  {
   "cell_type": "code",
   "execution_count": 24,
   "id": "d9ab4718",
   "metadata": {},
   "outputs": [
    {
     "name": "stdout",
     "output_type": "stream",
     "text": [
      "10\n"
     ]
    }
   ],
   "source": [
    "a=10\n",
    "print(a)"
   ]
  },
  {
   "cell_type": "code",
   "execution_count": 25,
   "id": "09188c7c",
   "metadata": {},
   "outputs": [
    {
     "name": "stdout",
     "output_type": "stream",
     "text": [
      "20\n"
     ]
    }
   ],
   "source": [
    "# Latest Value of 'a' will be fetched\n",
    "a=20\n",
    "print(a)"
   ]
  },
  {
   "cell_type": "markdown",
   "id": "b421b609",
   "metadata": {},
   "source": [
    "### TYPE Command"
   ]
  },
  {
   "cell_type": "code",
   "execution_count": 15,
   "id": "681a4d73",
   "metadata": {},
   "outputs": [
    {
     "name": "stdout",
     "output_type": "stream",
     "text": [
      "<class 'int'>\n",
      "<class 'str'>\n"
     ]
    }
   ],
   "source": [
    "num = 12\n",
    "name = \"Bro\"\n",
    "print(type(num))\n",
    "print(type(name))"
   ]
  },
  {
   "cell_type": "code",
   "execution_count": 37,
   "id": "a2be14bc",
   "metadata": {},
   "outputs": [
    {
     "data": {
      "text/plain": [
       "int"
      ]
     },
     "execution_count": 37,
     "metadata": {},
     "output_type": "execute_result"
    }
   ],
   "source": [
    "type(num)"
   ]
  },
  {
   "cell_type": "markdown",
   "id": "94f2f8bd",
   "metadata": {},
   "source": [
    "### Inverted Comma Logic "
   ]
  },
  {
   "cell_type": "code",
   "execution_count": 22,
   "id": "d70c58be",
   "metadata": {},
   "outputs": [
    {
     "name": "stdout",
     "output_type": "stream",
     "text": [
      "I'm Bro!\n",
      "I said, \"I'm bro\"\n"
     ]
    }
   ],
   "source": [
    "# To print I'm Bro! apostrophe creates issues so double intverted commas are used\n",
    "# Similarly we can use ' ', \" \",''' ''', \"\"\" \"\"\", etc.\n",
    "\n",
    "print(\"I'm Bro!\")\n",
    "print('''I said, \"I'm bro\"''')"
   ]
  },
  {
   "cell_type": "markdown",
   "id": "4a427d50",
   "metadata": {},
   "source": [
    "### Various Printing Logics "
   ]
  },
  {
   "cell_type": "code",
   "execution_count": 45,
   "id": "9d363f5a",
   "metadata": {},
   "outputs": [
    {
     "name": "stdout",
     "output_type": "stream",
     "text": [
      "My name is  Bro\n",
      "My age is  10\n",
      "I am Bro and I am 10 years old\n"
     ]
    }
   ],
   "source": [
    "age = 10\n",
    "name = 'Bro'\n",
    "print('My name is ',name)\n",
    "print('My age is ',age)\n",
    "\n",
    "# Converting 'age' from int to String\n",
    "age = '10'\n",
    "print('I am ' +name+ ' and I am ' +age+ ' years old')"
   ]
  }
 ],
 "metadata": {
  "kernelspec": {
   "display_name": "Python 3 (ipykernel)",
   "language": "python",
   "name": "python3"
  },
  "language_info": {
   "codemirror_mode": {
    "name": "ipython",
    "version": 3
   },
   "file_extension": ".py",
   "mimetype": "text/x-python",
   "name": "python",
   "nbconvert_exporter": "python",
   "pygments_lexer": "ipython3",
   "version": "3.9.7"
  }
 },
 "nbformat": 4,
 "nbformat_minor": 5
}
