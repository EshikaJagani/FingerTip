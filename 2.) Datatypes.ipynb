{
 "cells": [
  {
   "cell_type": "markdown",
   "id": "09756491",
   "metadata": {},
   "source": [
    "### Data Types in Python"
   ]
  },
  {
   "cell_type": "code",
   "execution_count": 1,
   "id": "5a8ddb3f",
   "metadata": {},
   "outputs": [
    {
     "name": "stdout",
     "output_type": "stream",
     "text": [
      "<class 'int'>\n",
      "<class 'float'>\n",
      "<class 'str'>\n",
      "<class 'complex'>\n",
      "False <class 'bool'>\n",
      "True <class 'bool'>\n",
      "True\n",
      "False\n"
     ]
    }
   ],
   "source": [
    "# Types of Data Type: int, complex, float, str\n",
    "\n",
    "# int\n",
    "a = 10\n",
    "print(type(a))\n",
    "\n",
    "# float\n",
    "b = 1.5\n",
    "print(type(b))\n",
    "\n",
    "# str\n",
    "c = 'Bro'\n",
    "print(type(c))\n",
    "\n",
    "# complex\n",
    "d = 1+3j\n",
    "print(type(d))\n",
    "\n",
    "#bool\n",
    "c = a < b\n",
    "print(c, type(c))\n",
    "c = a > b\n",
    "print(c, type(c))\n",
    "print(a!=b)\n",
    "print(a==b)"
   ]
  },
  {
   "cell_type": "code",
   "execution_count": 2,
   "id": "0ec0f08d",
   "metadata": {},
   "outputs": [
    {
     "name": "stdout",
     "output_type": "stream",
     "text": [
      "FingerTips\n",
      "FingerFingerFingerFingerFinger\n",
      "2\n",
      "1\n",
      "0\n",
      "1\n",
      "0\n"
     ]
    }
   ],
   "source": [
    "a = \"Finger\"\n",
    "b = \"Tips\"\n",
    "print(a+b)\n",
    "\n",
    "c=5\n",
    "print(a*c)\n",
    "\n",
    "#DO NOT consider AND OR operators, instead add or subtract..\n",
    "print(True+True)\n",
    "print(True+False)\n",
    "print(False+False)\n",
    "print(False+True)\n",
    "print(True-True)"
   ]
  },
  {
   "cell_type": "markdown",
   "id": "c143c09b",
   "metadata": {},
   "source": [
    "# List Datatype\n",
    "- Values are always enclosed within Square Brackets [ ].\n",
    "- It can have values with multiple datatypes.\n",
    "- Values in list are mutable."
   ]
  },
  {
   "cell_type": "code",
   "execution_count": 3,
   "id": "87f1dc96",
   "metadata": {},
   "outputs": [
    {
     "data": {
      "text/plain": [
       "list"
      ]
     },
     "execution_count": 3,
     "metadata": {},
     "output_type": "execute_result"
    }
   ],
   "source": [
    "l1 = [5, 2.5, 3j, 'Bro', True]\n",
    "l2 = ['I', 'am', 'Bro']\n",
    "l3 = [1, 2, 3, 4, 5]\n",
    "# type(l1)\n",
    "# type(l2)\n",
    "type(l3)"
   ]
  },
  {
   "cell_type": "code",
   "execution_count": 4,
   "id": "ee0a6140",
   "metadata": {},
   "outputs": [
    {
     "data": {
      "text/plain": [
       "3"
      ]
     },
     "execution_count": 4,
     "metadata": {},
     "output_type": "execute_result"
    }
   ],
   "source": [
    "# No. of values in list\n",
    "\n",
    "# len(l1)\n",
    "len(l2)\n",
    "# len(l3)"
   ]
  },
  {
   "cell_type": "code",
   "execution_count": 5,
   "id": "d67e4591",
   "metadata": {},
   "outputs": [
    {
     "name": "stdout",
     "output_type": "stream",
     "text": [
      "5\n",
      "Bro\n",
      "\n",
      "True\n",
      "2.5\n",
      "\n",
      "<class 'int'>\n"
     ]
    }
   ],
   "source": [
    "# Indexing in list\n",
    "# Left to Right: 0,1,2,3,...\n",
    "# Right to Left: -1,-2,-3,...\n",
    "\n",
    "l1 = [5, 2.5, 3j, 'Bro', True]\n",
    "\n",
    "print(l1[0])\n",
    "print(l1[3])\n",
    "print()\n",
    "print(l1[-1])\n",
    "print(l1[-4])\n",
    "print()\n",
    "print(type(l1[0]))"
   ]
  },
  {
   "cell_type": "markdown",
   "id": "f312043a",
   "metadata": {},
   "source": [
    "### Slicing and Dicing in List\n",
    "\n",
    "- It includes all the values mentioned between 2 numbers including the first and excluding the last number.\n",
    "- Third value is called Jump Value; used to skip values. Default value is 1."
   ]
  },
  {
   "cell_type": "code",
   "execution_count": 7,
   "id": "9cab3cf6",
   "metadata": {},
   "outputs": [
    {
     "name": "stdout",
     "output_type": "stream",
     "text": [
      "[5, 2.5, 3j]\n",
      "[3j, 'Bro', True]\n",
      "[5, 2.5, 3j]\n",
      "[2.5, 3j, 'Bro']\n",
      "[]\n"
     ]
    }
   ],
   "source": [
    "l1 = [5, 2.5, 3j, 'Bro', True]\n",
    "\n",
    "# This will print values: 0,1,2 excluding the value at 3rd index\n",
    "print(l1[0:3])\n",
    "\n",
    "# To print values at indices 2,3,4\n",
    "print(l1[2:5])\n",
    "\n",
    "# This excludes value at -2 index\n",
    "print(l1[0:-2])\n",
    "\n",
    "# Starts from -4 till -2 excluding -1\n",
    "print(l1[-4:-1])\n",
    "\n",
    "# CANNOT go in opposite direction\n",
    "print(l1[-1:-4])"
   ]
  },
  {
   "cell_type": "code",
   "execution_count": 8,
   "id": "0f60dfe0",
   "metadata": {},
   "outputs": [
    {
     "name": "stdout",
     "output_type": "stream",
     "text": [
      "[3j, 'Bro']\n",
      "<class 'list'>\n"
     ]
    }
   ],
   "source": [
    "# Slicing-Dicing can be used to store data in variables too\n",
    "# and the data gets stored in the form of LIST\n",
    "l1 = [5, 2.5, 3j, 'Bro', True]\n",
    "\n",
    "data = l1[-3:-1]\n",
    "print(data)\n",
    "print(type(data))"
   ]
  },
  {
   "cell_type": "code",
   "execution_count": 9,
   "id": "acc4bc63",
   "metadata": {},
   "outputs": [
    {
     "name": "stdout",
     "output_type": "stream",
     "text": [
      "['a', 'c', 'e', 'g', 'i']\n",
      "['c', 'f', 'i']\n",
      "['b', 'd', 'f', 'h', 'j']\n",
      "['a', 'b', 'c', 'd', 'e', 'f', 'g']\n",
      "['e', 'f', 'g', 'h', 'i', 'j', 'k']\n",
      "['a', 'b', 'c', 'd', 'e', 'f', 'g', 'h', 'i', 'j', 'k']\n",
      "['a', 'c', 'e', 'g', 'i', 'k']\n",
      "['k', 'j', 'i', 'h', 'g', 'f', 'e', 'd', 'c', 'b', 'a']\n",
      "['k', 'i', 'g', 'e', 'c', 'a']\n"
     ]
    }
   ],
   "source": [
    "# The third number represents the number of values to skip\n",
    "\n",
    "l5 = ['a','b','c','d','e','f','g','h','i','j','k']\n",
    "\n",
    "# Starting from 1st value, prints every second value (alternate values) (skips one value)\n",
    "# till 10\n",
    "print(l5[0:10:2])\n",
    "\n",
    "# Starting from 1st value, prints every third value (skips 2 values)\n",
    "# till -1\n",
    "print(l5[-9:-1:3])\n",
    "\n",
    "# Starting from 1st value, prints every second value (alternate values) (skips 1 value)\n",
    "# till the end of the list\n",
    "print(l5[1::2])\n",
    "\n",
    "# Print all values till 7 (including 7)\n",
    "print(l5[:7])\n",
    "\n",
    "# Print all values 4 onwards (excluding 4)\n",
    "print(l5[4:])\n",
    "\n",
    "#Print all values\n",
    "print(l5[:])\n",
    "\n",
    "# Print all values skipping one value\n",
    "print(l5[::2])\n",
    "\n",
    "# Print all values in reverse order\n",
    "print(l5[::-1])\n",
    "\n",
    "# Print all values in reverse order starting from -1 onwards skipping 1 value\n",
    "print(l5[::-2])"
   ]
  },
  {
   "cell_type": "markdown",
   "id": "d7f2507b",
   "metadata": {},
   "source": [
    "### List Functions"
   ]
  },
  {
   "cell_type": "code",
   "execution_count": 10,
   "id": "7363f9d6",
   "metadata": {},
   "outputs": [
    {
     "name": "stdout",
     "output_type": "stream",
     "text": [
      ".index():  0\n",
      "\n",
      ".count():  1\n",
      "\n",
      ".reverse():  ['b', 'a']\n",
      "\n",
      ".append():  ['a', 'b', 'd']\n",
      "\n",
      ".insert():  ['a', 'b', 'c', 'd']\n",
      "\n",
      ".pop():  ['a', 'b', 'c']\n",
      "\n",
      ".pop(index):  ['a', 'c']\n",
      "\n",
      ".remove():  ['c']\n",
      "\n",
      ".clear():  []\n",
      "\n",
      "del[]:  ['b']\n",
      "\n",
      "del: \n"
     ]
    },
    {
     "ename": "NameError",
     "evalue": "name 'l' is not defined",
     "output_type": "error",
     "traceback": [
      "\u001b[1;31m---------------------------------------------------------------------------\u001b[0m",
      "\u001b[1;31mNameError\u001b[0m                                 Traceback (most recent call last)",
      "\u001b[1;32m~\\AppData\\Local\\Temp/ipykernel_23472/2031391589.py\u001b[0m in \u001b[0;36m<module>\u001b[1;34m\u001b[0m\n\u001b[0;32m     56\u001b[0m \u001b[1;32mdel\u001b[0m \u001b[0ml\u001b[0m\u001b[1;33m\u001b[0m\u001b[1;33m\u001b[0m\u001b[0m\n\u001b[0;32m     57\u001b[0m \u001b[0mprint\u001b[0m\u001b[1;33m(\u001b[0m\u001b[1;34m'del: '\u001b[0m\u001b[1;33m)\u001b[0m\u001b[1;33m\u001b[0m\u001b[1;33m\u001b[0m\u001b[0m\n\u001b[1;32m---> 58\u001b[1;33m \u001b[0mprint\u001b[0m\u001b[1;33m(\u001b[0m\u001b[0ml\u001b[0m\u001b[1;33m)\u001b[0m\u001b[1;33m\u001b[0m\u001b[1;33m\u001b[0m\u001b[0m\n\u001b[0m\u001b[0;32m     59\u001b[0m \u001b[0mprint\u001b[0m\u001b[1;33m(\u001b[0m\u001b[1;33m)\u001b[0m\u001b[1;33m\u001b[0m\u001b[1;33m\u001b[0m\u001b[0m\n",
      "\u001b[1;31mNameError\u001b[0m: name 'l' is not defined"
     ]
    }
   ],
   "source": [
    "l = ['a','b']\n",
    "\n",
    "# index(): to get the index of the entered value\n",
    "print(\".index(): \", l.index('a'))\n",
    "print()\n",
    "\n",
    "# count(): to count the occurence of the entered value\n",
    "print(\".count(): \", l.count('a'))\n",
    "print()\n",
    "\n",
    "# # reverse(): to reverse the values in list\n",
    "l.reverse()\n",
    "print(\".reverse(): \", l)\n",
    "print()\n",
    "l.reverse()\n",
    "\n",
    "# append(): adds element at the END of the list\n",
    "l.append('d')\n",
    "print(\".append(): \", l)\n",
    "print()\n",
    "\n",
    "# insert(): adds element at the MENTIONED index of the list\n",
    "l.insert(2,'c')\n",
    "print(\".insert(): \", l)\n",
    "print()\n",
    "\n",
    "# pop(): removes the last element from the list\n",
    "l.pop()\n",
    "print('.pop(): ', l)\n",
    "print()\n",
    "\n",
    "# pop(): removes value at the mentioned index\n",
    "l.pop(1)\n",
    "print('.pop(index): ', l)\n",
    "print()\n",
    "\n",
    "# remove(): remove using value and NOT index\n",
    "l.remove('a')\n",
    "print('.remove(): ', l)\n",
    "print()\n",
    "\n",
    "# clear(): removes all the values from the list\n",
    "l.clear()\n",
    "print('.clear(): ', l)\n",
    "print()\n",
    "\n",
    "l = ['a','b']\n",
    "\n",
    "# del[]: deletes value at the given index\n",
    "# other formats include slicing and dicing: del l[0:10:2]\n",
    "del l[-2]\n",
    "print('del[]: ', l)\n",
    "print()\n",
    "\n",
    "# del: deletes the entire list\n",
    "del l\n",
    "print('del: ')\n",
    "print(l)\n",
    "print()"
   ]
  },
  {
   "cell_type": "code",
   "execution_count": 11,
   "id": "25937633",
   "metadata": {},
   "outputs": [
    {
     "data": {
      "text/plain": [
       "['c', 'b', 'a', 'd', 'e', 'f', 'g']"
      ]
     },
     "execution_count": 11,
     "metadata": {},
     "output_type": "execute_result"
    }
   ],
   "source": [
    "# to reverse only first two values\n",
    "\n",
    "l = ['a','b','c','d','e','f','g']\n",
    "\n",
    "l2 = l[0:3]\n",
    "l2.reverse()\n",
    "l3 = l[3:]\n",
    "\n",
    "l = l2 + l3\n",
    "l"
   ]
  },
  {
   "cell_type": "code",
   "execution_count": 12,
   "id": "4be7b0c0",
   "metadata": {},
   "outputs": [
    {
     "name": "stdout",
     "output_type": "stream",
     "text": [
      "[1, 2, 3, [4, 5, 6]]\n",
      "[4, 5, 6]\n",
      "5\n",
      "\n",
      "[1, 2, 3, 4, 5, 6]\n",
      "4\n"
     ]
    }
   ],
   "source": [
    "# appending to make nested list\n",
    "l1 = [1,2,3]\n",
    "l2 = [4,5,6]\n",
    "l1.append(l2)\n",
    "print(l1)\n",
    "print(l1[3])\n",
    "# to access the values inside the nested list\n",
    "print(l1[3][1])\n",
    "print()\n",
    "\n",
    "l1 = [1,2,3]\n",
    "l2 = [4,5,6]\n",
    "\n",
    "# extending to add \"values of list\" and not \"list\"\n",
    "l1.extend(l2)\n",
    "print(l1)\n",
    "print(l1[3])"
   ]
  },
  {
   "cell_type": "code",
   "execution_count": 13,
   "id": "f4bfc123",
   "metadata": {},
   "outputs": [
    {
     "name": "stdout",
     "output_type": "stream",
     "text": [
      "[1, 2, 3, 4]\n",
      "\n",
      "[4, 3, 2, 1]\n",
      "\n",
      "['A', 'B', 'a', 'c']\n",
      "\n"
     ]
    },
    {
     "ename": "TypeError",
     "evalue": "'<' not supported between instances of 'int' and 'str'",
     "output_type": "error",
     "traceback": [
      "\u001b[1;31m---------------------------------------------------------------------------\u001b[0m",
      "\u001b[1;31mTypeError\u001b[0m                                 Traceback (most recent call last)",
      "\u001b[1;32m~\\AppData\\Local\\Temp/ipykernel_23472/2923997786.py\u001b[0m in \u001b[0;36m<module>\u001b[1;34m\u001b[0m\n\u001b[0;32m     17\u001b[0m \u001b[0mprint\u001b[0m\u001b[1;33m(\u001b[0m\u001b[1;33m)\u001b[0m\u001b[1;33m\u001b[0m\u001b[1;33m\u001b[0m\u001b[0m\n\u001b[0;32m     18\u001b[0m \u001b[1;33m\u001b[0m\u001b[0m\n\u001b[1;32m---> 19\u001b[1;33m \u001b[0ml3\u001b[0m\u001b[1;33m.\u001b[0m\u001b[0msort\u001b[0m\u001b[1;33m(\u001b[0m\u001b[1;33m)\u001b[0m\u001b[1;33m\u001b[0m\u001b[1;33m\u001b[0m\u001b[0m\n\u001b[0m\u001b[0;32m     20\u001b[0m \u001b[0mprint\u001b[0m\u001b[1;33m(\u001b[0m\u001b[0ml3\u001b[0m\u001b[1;33m)\u001b[0m\u001b[1;33m\u001b[0m\u001b[1;33m\u001b[0m\u001b[0m\n\u001b[0;32m     21\u001b[0m \u001b[0mprint\u001b[0m\u001b[1;33m(\u001b[0m\u001b[1;33m)\u001b[0m\u001b[1;33m\u001b[0m\u001b[1;33m\u001b[0m\u001b[0m\n",
      "\u001b[1;31mTypeError\u001b[0m: '<' not supported between instances of 'int' and 'str'"
     ]
    }
   ],
   "source": [
    "# sort(): to sort values in asc, desc, alphabetically(according to ASCII value).\n",
    "\n",
    "l1= [2,1,4,3]\n",
    "l2= ['a','c','B','A']\n",
    "l3= ['a',20,'B',10]\n",
    "\n",
    "l1.sort()\n",
    "print(l1)\n",
    "print()\n",
    "\n",
    "l1.sort(reverse = True)\n",
    "print(l1)\n",
    "print()\n",
    "\n",
    "l2.sort()\n",
    "print(l2)\n",
    "print()\n",
    "\n",
    "l3.sort()\n",
    "print(l3)\n",
    "print()"
   ]
  },
  {
   "cell_type": "code",
   "execution_count": 14,
   "id": "8847ca6c",
   "metadata": {},
   "outputs": [
    {
     "name": "stdout",
     "output_type": "stream",
     "text": [
      "[1, 2, 3, 4]\n",
      "[1, 2, 3, 4]\n",
      "[1, 2, 3, 4]\n",
      "[1, 2, 3, 4]\n",
      "\n",
      "[1, 2, 3]\n",
      "[1, 2, 3]\n",
      "[1, 2, 3, 4]\n",
      "[1, 2, 3, 4]\n",
      "\n"
     ]
    }
   ],
   "source": [
    "l = [1,2,3,4]\n",
    "l1 = l\n",
    "l2 = l.copy()\n",
    "l3= list(l)\n",
    "\n",
    "print(l)\n",
    "print(l1)\n",
    "print(l2)\n",
    "print(l3)\n",
    "print()\n",
    "\n",
    "l.pop()\n",
    "print(l)\n",
    "print(l1)\n",
    "print(l2)\n",
    "print(l3)\n",
    "print()\n",
    "\n",
    "#.copy() and list() will not be affected"
   ]
  },
  {
   "cell_type": "markdown",
   "id": "48a00476",
   "metadata": {},
   "source": [
    "# Tuple Datatype\n",
    "- Values are always enclosed within Square Brackets ( ).\n",
    "- It can have values with multiple datatypes.\n",
    "- Values in tuple are immutable."
   ]
  },
  {
   "cell_type": "markdown",
   "id": "612c9ce5",
   "metadata": {},
   "source": [
    "### Tuple Functions"
   ]
  },
  {
   "cell_type": "code",
   "execution_count": 15,
   "id": "9eb7edb5",
   "metadata": {},
   "outputs": [
    {
     "name": "stdout",
     "output_type": "stream",
     "text": [
      ".count():  1\n",
      "\n",
      "len():  5\n",
      "\n",
      ".index():  4\n",
      "\n"
     ]
    }
   ],
   "source": [
    "t = (1,2,3,4,5)\n",
    "\n",
    "# count(): to count occurance of a value\n",
    "print('.count(): ',t.count(3))\n",
    "print()\n",
    "\n",
    "# len(): to get length of the tuple\n",
    "print('len(): ', len(t))\n",
    "print()\n",
    "\n",
    "# index(): to get index of a value\n",
    "print('.index(): ',t.index(5))\n",
    "print()\n",
    "\n",
    "# # to delete the tuple\n",
    "# del t\n",
    "# print(t)"
   ]
  },
  {
   "cell_type": "code",
   "execution_count": 16,
   "id": "956e4b20",
   "metadata": {},
   "outputs": [
    {
     "ename": "AttributeError",
     "evalue": "'tuple' object has no attribute 'append'",
     "output_type": "error",
     "traceback": [
      "\u001b[1;31m---------------------------------------------------------------------------\u001b[0m",
      "\u001b[1;31mAttributeError\u001b[0m                            Traceback (most recent call last)",
      "\u001b[1;32m~\\AppData\\Local\\Temp/ipykernel_23472/1582275706.py\u001b[0m in \u001b[0;36m<module>\u001b[1;34m\u001b[0m\n\u001b[0;32m      2\u001b[0m \u001b[1;31m# insert, append, remove, pop, extend, reverse\u001b[0m\u001b[1;33m\u001b[0m\u001b[1;33m\u001b[0m\u001b[0m\n\u001b[0;32m      3\u001b[0m \u001b[1;33m\u001b[0m\u001b[0m\n\u001b[1;32m----> 4\u001b[1;33m \u001b[0mt\u001b[0m\u001b[1;33m.\u001b[0m\u001b[0mappend\u001b[0m\u001b[1;33m(\u001b[0m\u001b[1;36m6\u001b[0m\u001b[1;33m)\u001b[0m\u001b[1;33m\u001b[0m\u001b[1;33m\u001b[0m\u001b[0m\n\u001b[0m",
      "\u001b[1;31mAttributeError\u001b[0m: 'tuple' object has no attribute 'append'"
     ]
    }
   ],
   "source": [
    "# tuple being immutable, does not have functions like:\n",
    "# insert, append, remove, pop, extend, reverse\n",
    "\n",
    "t.append(6)"
   ]
  },
  {
   "cell_type": "code",
   "execution_count": 17,
   "id": "16114513",
   "metadata": {},
   "outputs": [
    {
     "name": "stdout",
     "output_type": "stream",
     "text": [
      "Tuple:  ['a', 'b', 'd']\n",
      "type:  <class 'list'>\n",
      "list :  ['a', 'b', 'c']\n",
      "tuple:  ('a', 'b', 'c')\n"
     ]
    }
   ],
   "source": [
    "# to change a value in tuple\n",
    "\n",
    "t = ['a','b','d']\n",
    "print('Tuple: ', t)\n",
    "\n",
    "# convert it into list\n",
    "l = list(t)\n",
    "print('type: ',type(l))\n",
    "\n",
    "# change the value\n",
    "l[-1] = 'c'\n",
    "print('list : ', l)\n",
    "\n",
    "# convert list to tuple\n",
    "t = tuple(l)\n",
    "print('tuple: ', t)\n",
    "\n",
    "# similarly all the list functions can be implemented on tuple"
   ]
  },
  {
   "cell_type": "markdown",
   "id": "58bb8709",
   "metadata": {},
   "source": [
    "### Slicing and Dicing in Tuple\n",
    "\n",
    "- Almost similar to that in list."
   ]
  },
  {
   "cell_type": "code",
   "execution_count": 18,
   "id": "aac40fd0",
   "metadata": {},
   "outputs": [
    {
     "name": "stdout",
     "output_type": "stream",
     "text": [
      "('a', 1)\n",
      "\n",
      "2\n"
     ]
    }
   ],
   "source": [
    "t = ('a','b',1,2)\n",
    "\n",
    "print(t[0::2])\n",
    "print()\n",
    "print(t[-1])"
   ]
  },
  {
   "cell_type": "markdown",
   "id": "db6a2a73",
   "metadata": {},
   "source": [
    "# Set Datatype\n",
    "\n",
    "- Values are enclosed within curly braces\n",
    "- Repeating values are ignored.\n",
    "- Values do not have Index.\n",
    "- When printed, order is not maintained."
   ]
  },
  {
   "cell_type": "code",
   "execution_count": 21,
   "id": "cbecacd6",
   "metadata": {},
   "outputs": [
    {
     "name": "stdout",
     "output_type": "stream",
     "text": [
      "{1, 2, 3, 'c', 'b', 'a'}\n"
     ]
    }
   ],
   "source": [
    "s = {1,2,3,1,2,3,'a','b','c'}\n",
    "print(s)"
   ]
  },
  {
   "cell_type": "code",
   "execution_count": 26,
   "id": "74dd73db",
   "metadata": {},
   "outputs": [
    {
     "data": {
      "text/plain": [
       "{1, 2, 3, 'a', 'b', 'c'}"
      ]
     },
     "execution_count": 26,
     "metadata": {},
     "output_type": "execute_result"
    }
   ],
   "source": [
    "s"
   ]
  },
  {
   "cell_type": "code",
   "execution_count": 28,
   "id": "e0748c25",
   "metadata": {},
   "outputs": [
    {
     "ename": "TypeError",
     "evalue": "'set' object is not subscriptable",
     "output_type": "error",
     "traceback": [
      "\u001b[1;31m---------------------------------------------------------------------------\u001b[0m",
      "\u001b[1;31mTypeError\u001b[0m                                 Traceback (most recent call last)",
      "\u001b[1;32m~\\AppData\\Local\\Temp/ipykernel_23472/1758058856.py\u001b[0m in \u001b[0;36m<module>\u001b[1;34m\u001b[0m\n\u001b[0;32m      1\u001b[0m \u001b[1;31m# Fetching a value by its index returns error\u001b[0m\u001b[1;33m\u001b[0m\u001b[1;33m\u001b[0m\u001b[0m\n\u001b[1;32m----> 2\u001b[1;33m \u001b[0ms\u001b[0m\u001b[1;33m[\u001b[0m\u001b[1;36m0\u001b[0m\u001b[1;33m]\u001b[0m\u001b[1;33m\u001b[0m\u001b[1;33m\u001b[0m\u001b[0m\n\u001b[0m",
      "\u001b[1;31mTypeError\u001b[0m: 'set' object is not subscriptable"
     ]
    }
   ],
   "source": [
    "# Fetching a value by its index returns error\n",
    "s[0]"
   ]
  },
  {
   "cell_type": "markdown",
   "id": "5d1b686d",
   "metadata": {},
   "source": [
    "### Set Functions"
   ]
  },
  {
   "cell_type": "code",
   "execution_count": 76,
   "id": "d53e2804",
   "metadata": {},
   "outputs": [
    {
     "name": "stdout",
     "output_type": "stream",
     "text": [
      ".add():  {1, 2, 3, 4}\n",
      ".union():  {1, 2, 3, 4, 5, 6, 7}\n",
      ".update():  {1, 2, 3, 4, 5, 6, 7}\n",
      "\n",
      "\n",
      ".intersection_update():  {5, 6, 7}\n",
      ".intersection():  {5, 6, 7}\n",
      ".intersection():  {1, 2, 3, 4, 5, 6, 7}\n",
      ".symmetric_difference_update():  {2, 3, 4, 5}\n",
      ".symmetric_difference():  {2, 3, 4, 5}\n",
      ".symmetric_difference():  {1, 2, 3}\n",
      ".difference():  {1}\n",
      ".difference():  {1, 2, 3}\n",
      ".difference_update():  None\n",
      "\n",
      "\n",
      ".copy():  {1, 2, 3}\n",
      ".isdisjoint():  False\n",
      ".issubset():  True\n",
      ".issuperset():  True\n",
      "\n",
      "\n",
      ".discard():  {1, 2, 3}\n",
      ".pop():  {2, 3}\n",
      ".clear():  set()\n"
     ]
    },
    {
     "ename": "NameError",
     "evalue": "name 's1' is not defined",
     "output_type": "error",
     "traceback": [
      "\u001b[1;31m---------------------------------------------------------------------------\u001b[0m",
      "\u001b[1;31mNameError\u001b[0m                                 Traceback (most recent call last)",
      "\u001b[1;32m~\\AppData\\Local\\Temp/ipykernel_23472/2210862476.py\u001b[0m in \u001b[0;36m<module>\u001b[1;34m\u001b[0m\n\u001b[0;32m     96\u001b[0m \u001b[1;31m# del: deletes the entire tuple\u001b[0m\u001b[1;33m\u001b[0m\u001b[1;33m\u001b[0m\u001b[0m\n\u001b[0;32m     97\u001b[0m \u001b[1;32mdel\u001b[0m \u001b[0ms1\u001b[0m\u001b[1;33m\u001b[0m\u001b[1;33m\u001b[0m\u001b[0m\n\u001b[1;32m---> 98\u001b[1;33m \u001b[0mprint\u001b[0m\u001b[1;33m(\u001b[0m\u001b[0ms1\u001b[0m\u001b[1;33m)\u001b[0m\u001b[1;33m\u001b[0m\u001b[1;33m\u001b[0m\u001b[0m\n\u001b[0m",
      "\u001b[1;31mNameError\u001b[0m: name 's1' is not defined"
     ]
    }
   ],
   "source": [
    "s1 = {1,2,3}\n",
    "s2 = {5,6,7}\n",
    "\n",
    "# s.add(): to append vales in set\n",
    "s1.add(4)\n",
    "print('.add(): ', s1)\n",
    "\n",
    "# s.union(): to join sets\n",
    "print('.union(): ', s1.union(s2))\n",
    "\n",
    "# s.update(): to append values of other set in this set\n",
    "s1.update(s2)\n",
    "print('.update(): ', s1)\n",
    "\n",
    "print()\n",
    "print()\n",
    "\n",
    "# s.intersection_update(): to get the values which are common in both the sets updating the first set\n",
    "s1.intersection_update(s2)\n",
    "print('.intersection_update(): ', s1)\n",
    "\n",
    "    # s.intersection(): to get values common in both the sets WITHOUT updating the first set\n",
    "s1 = {1,2,3,4,5,6,7}\n",
    "s2 = {5,6,7}\n",
    "print('.intersection(): ', s1.intersection(s2))\n",
    "print('.intersection(): ', s1)\n",
    "\n",
    "# s.symmetric_difference_update(): to get values that are not common in both the sets updating the first set\n",
    "s1={1,2,3}\n",
    "s2={1,4,5}\n",
    "s1.symmetric_difference_update(s2)\n",
    "print('.symmetric_difference_update(): ', s1)\n",
    "\n",
    "# s.symmetric_difference(): to get values that are not common in both the sets WITHOUT updating the first set\n",
    "s1={1,2,3}\n",
    "s2={1,4,5}\n",
    "print('.symmetric_difference(): ', s1.symmetric_difference(s2))\n",
    "print('.symmetric_difference(): ', s1)\n",
    "\n",
    "# s.difference(): removes common values and gives remaining  values from the first set\n",
    "s1 = {1,2,3}\n",
    "s2 = {2,3,4}\n",
    "print('.difference(): ', s1.difference(s2))\n",
    "print('.difference(): ',s1)\n",
    "\n",
    "# s.difference_update(): removes common values and gives remaining  values from the first set updating the first set\n",
    "s1 = {1,2,3}\n",
    "s2 = {2,3,4}\n",
    "print('.difference_update(): ', s1.difference_update(s2))\n",
    "\n",
    "print()\n",
    "print()\n",
    "\n",
    "# s.copy(): to copy all values of a set to another\n",
    "s1 = {1,2,3}\n",
    "s3 = s1.copy()\n",
    "print('.copy(): ', s3)\n",
    "\n",
    "# s.isdisjoint(): returns true if no values are common between both the sets else false\n",
    "# s1 = {1,2,3}\n",
    "s1 = {1,2,3,4}\n",
    "s2 = {4,5,6}\n",
    "print('.isdisjoint(): ', s1.isdisjoint(s2))\n",
    "\n",
    "# s.issubset(): returns true if all values of a set are present in the other set else false\n",
    "s1 = {2,3}\n",
    "# s1 = {2,3,4}\n",
    "s2 = {1,2,3}\n",
    "print('.issubset(): ', s1.issubset(s2))\n",
    "\n",
    "# s.issuperset(): returns true if a set consists of all values from the other set including other values else false\n",
    "print('.issuperset(): ', s2.issuperset(s1))\n",
    "\n",
    "print()\n",
    "print()\n",
    "\n",
    "# s.remove(): to remove a particular item (If item to remove does not exist, it will raise an error.)\n",
    "s1 = {1,2,3,4}\n",
    "# s1.remove(4)\n",
    "# print('.remove(): ', s1)\n",
    "# s1.remove(4)\n",
    "# print('.remove(): ', s1)\n",
    "\n",
    "# s.discard(): to remove a particular item (If item to remove does not exist, it will NOT raise an error.)\n",
    "s1.remove(4)\n",
    "print('.discard(): ', s1)\n",
    "\n",
    "# s.pop(): to remove a random item from set\n",
    "s1.pop()\n",
    "print('.pop(): ', s1)\n",
    "\n",
    "# s.clear(): empties the set\n",
    "s1.clear()\n",
    "print('.clear(): ', s1)\n",
    "\n",
    "# del: deletes the entire tuple\n",
    "del s1\n",
    "print(s1)"
   ]
  },
  {
   "cell_type": "markdown",
   "id": "d33ebb1f",
   "metadata": {},
   "source": [
    "# Dictionary Datatype\n",
    "\n",
    "- Items are enclosed within curly braces {}, in the form of KEY-VALUE pairs separated by a colon (:).\n",
    "- It is unordered; fetching items using indexing throws error."
   ]
  },
  {
   "cell_type": "code",
   "execution_count": 77,
   "id": "41ad85c8",
   "metadata": {},
   "outputs": [
    {
     "name": "stdout",
     "output_type": "stream",
     "text": [
      "{'Name': 'Bro', 'Age': 12, 'City': ['Ahmedabad', 'Bengalore'], 123: 'abc'}\n"
     ]
    }
   ],
   "source": [
    "d = {'Name':'Bro', \n",
    "    'Age': 12,\n",
    "    'City': ['Ahmedabad', 'Bengalore'],\n",
    "    123: 'abc'}\n",
    "print(d)"
   ]
  },
  {
   "cell_type": "markdown",
   "id": "d458022f",
   "metadata": {},
   "source": [
    "### Dictionary Functions"
   ]
  },
  {
   "cell_type": "code",
   "execution_count": 107,
   "id": "5a3640fe",
   "metadata": {},
   "outputs": [
    {
     "name": "stdout",
     "output_type": "stream",
     "text": [
      "len():  4\n",
      ".keys():  dict_keys(['Name', 'Age', 'City', 123])\n",
      ".values():  dict_values(['Bro', 12, ['Ahmedabad', 'Bengalore'], 'abc'])\n",
      ".items():  dict_items([('Name', 'Bro'), ('Age', 12), ('City', ['Ahmedabad', 'Bengalore']), (123, 'abc')])\n",
      "\n",
      "Name: Bro\n",
      "Age:  12\n",
      "City:  ['Ahmedabad', 'Bengalore']\n",
      "123:  abc\n",
      "\n",
      ".get():  Bro\n",
      "After changing value:  {'Name': 'Bro', 'Age': 12, 'City': ['Ahmedabad', 'Bengalore'], 123: 'ABC'}\n",
      ".pop():  {'Name': 'Bro', 'Age': 12, 'City': ['Ahmedabad', 'Bengalore']}\n",
      ".popitem():  {'Name': 'Bro', 'Age': 12}\n",
      ".clear():  {}\n"
     ]
    },
    {
     "ename": "NameError",
     "evalue": "name 'd' is not defined",
     "output_type": "error",
     "traceback": [
      "\u001b[1;31m---------------------------------------------------------------------------\u001b[0m",
      "\u001b[1;31mNameError\u001b[0m                                 Traceback (most recent call last)",
      "\u001b[1;32m~\\AppData\\Local\\Temp/ipykernel_23472/1843663076.py\u001b[0m in \u001b[0;36m<module>\u001b[1;34m\u001b[0m\n\u001b[0;32m     43\u001b[0m \u001b[1;31m# del: to delete the entire dictionary variable\u001b[0m\u001b[1;33m\u001b[0m\u001b[1;33m\u001b[0m\u001b[0m\n\u001b[0;32m     44\u001b[0m \u001b[1;32mdel\u001b[0m \u001b[0md\u001b[0m\u001b[1;33m\u001b[0m\u001b[1;33m\u001b[0m\u001b[0m\n\u001b[1;32m---> 45\u001b[1;33m \u001b[0mprint\u001b[0m\u001b[1;33m(\u001b[0m\u001b[0md\u001b[0m\u001b[1;33m)\u001b[0m\u001b[1;33m\u001b[0m\u001b[1;33m\u001b[0m\u001b[0m\n\u001b[0m",
      "\u001b[1;31mNameError\u001b[0m: name 'd' is not defined"
     ]
    }
   ],
   "source": [
    "d = {'Name':'Bro', \n",
    "    'Age': 12,\n",
    "    'City': ['Ahmedabad', 'Bengalore'],\n",
    "    123: 'abc'}\n",
    "\n",
    "# len(): to get no. of key-value pairs\n",
    "print('len(): ', len(d))\n",
    "\n",
    "# .keys(): to fetch all the keys\n",
    "print('.keys(): ', d.keys())\n",
    "\n",
    "# .values(): to fetch all the values\n",
    "print('.values(): ', d.values())\n",
    "\n",
    "# .items(): to fetch all the pairs\n",
    "print('.items(): ', d.items())\n",
    "\n",
    "# /.get(): to fetch value using key (vice versa is throws error)\n",
    "print()\n",
    "print('Name:', d['Name'])\n",
    "print('Age: ', d['Age'])\n",
    "print('City: ', d['City'])\n",
    "print('123: ', d[123])\n",
    "print()\n",
    "print('.get(): ', d.get('Name'))\n",
    "\n",
    "# to change a value\n",
    "d[123] = 'ABC'\n",
    "print('After changing value: ', d)\n",
    "\n",
    "# .pop(): remove item mentioned in parenthesis\n",
    "d.pop(123)\n",
    "print('.pop(): ', d)\n",
    "\n",
    "# .popitem(): removes items randomly\n",
    "d.popitem()\n",
    "print('.popitem(): ', d)\n",
    "\n",
    "# .clear(): to clear all the items\n",
    "d.clear()\n",
    "print('.clear(): ',  d)\n",
    "\n",
    "# del: to delete the entire dictionary variable\n",
    "del d\n",
    "print(d)"
   ]
  },
  {
   "cell_type": "code",
   "execution_count": 120,
   "id": "8bfe5af7",
   "metadata": {},
   "outputs": [
    {
     "name": "stdout",
     "output_type": "stream",
     "text": [
      "<class 'dict'>\n",
      "<class 'dict'>\n",
      "<class 'dict'>\n",
      "<class 'dict'>\n",
      "\n",
      "{'Name': 'Bro', 'Age': 12, 'City': ['Ahmedabad', 'Bengalore'], 123: 'ABC'}\n",
      "{'Name': 'Bro', 'Age': 12, 'City': ['Ahmedabad', 'Bengalore'], 123: 'ABC'}\n",
      "{'Name': 'Bro', 'Age': 12, 'City': ['Ahmedabad', 'Bengalore'], 123: 'abc'}\n",
      "{'Name': 'Bro', 'Age': 12, 'City': ['Ahmedabad', 'Bengalore'], 123: 'abc'}\n",
      "\n",
      "After adding item:  {'Name': 'Bro', 'Age': 12, 'City': ['Ahmedabad', 'Bengalore'], 123: 'ABC', 'Gender': 'Male'}\n",
      "\n",
      "After updating item:  {'Name': 'Bro', 'Age': 12, 'City': ['Ahmedabad', 'Bengalore'], 123: 'ABC', 'Gender': 'Male', 'State': ('Guj', 'Kar')}\n",
      "After updating item:  {'Name': 'Bro', 'Age': 12, 'City': ['Ahmedabad', 'Bengalore'], 123: 'ABC', 'Gender': 'Male', 'State': ('Guj', 'Kar'), 'Country': 'Bharat'}\n"
     ]
    }
   ],
   "source": [
    "# .copy(): to copy the entire dictionary\n",
    "\n",
    "d = {'Name':'Bro', \n",
    "    'Age': 12,\n",
    "    'City': ['Ahmedabad', 'Bengalore'],\n",
    "    123: 'abc'}\n",
    "\n",
    "v1 = d\n",
    "v2 = d.copy()\n",
    "v3 = dict(d)\n",
    "\n",
    "print(type(d))\n",
    "print(type(v1))\n",
    "print(type(v2))\n",
    "print(type(v3))\n",
    "\n",
    "d[123] = 'ABC'\n",
    "print()\n",
    "\n",
    "print(d)\n",
    "print(v1)\n",
    "print(v2)\n",
    "print(v3)\n",
    "\n",
    "print()\n",
    "\n",
    "# .update(): to add an item\n",
    "d['Gender'] = 'Male'\n",
    "print('After adding item: ' ,d)\n",
    "print()\n",
    "d1 = {'State':('Guj','Kar')}\n",
    "d.update(d1)\n",
    "print('After updating item: ', d)\n",
    "d.update({'Country':'Bharat'})\n",
    "print('After updating item: ', d)"
   ]
  },
  {
   "cell_type": "code",
   "execution_count": 126,
   "id": "a2a1b220",
   "metadata": {},
   "outputs": [
    {
     "name": "stdout",
     "output_type": "stream",
     "text": [
      ".fromkeys():  {'a': [1, 2, 3], 'b': [1, 2, 3], 'c': [1, 2, 3]}\n",
      "\n",
      "{'Name': 'Bro', 'Age': 12}\n",
      "For existing item:  {'Name': 'Bro', 'Age': 12}\n",
      "For new item:  {'Name': 'Bro', 'Age': 12, 'Friend': 'Bruh'}\n"
     ]
    }
   ],
   "source": [
    "# .fromkeys(): to add items\n",
    "d2={}\n",
    "k = ['a','b','c']\n",
    "v = [1,2,3]\n",
    "print('.fromkeys(): ', d2.fromkeys(k,v))\n",
    "\n",
    "print()\n",
    "\n",
    "# .setdefault(): existing items will not be affected but new items will be added\n",
    "d = {'Name':'Bro', \n",
    "    'Age': 12}\n",
    "print(d)\n",
    "d.setdefault('Name','Bruh')\n",
    "print('For existing item: ', d)\n",
    "d.setdefault('Friend','Bruh')\n",
    "print('For new item: ', d)"
   ]
  },
  {
   "cell_type": "markdown",
   "id": "069e97e9",
   "metadata": {},
   "source": [
    "### Nested Dictionary"
   ]
  },
  {
   "cell_type": "code",
   "execution_count": 133,
   "id": "abef499f",
   "metadata": {},
   "outputs": [
    {
     "name": "stdout",
     "output_type": "stream",
     "text": [
      "Keys:  dict_keys([1, 2, 3])\n",
      "Values:  dict_values([{'A': 'a', 'B': 'b', 'C': 'c'}, {'D': 'd', 'E': 'e', 'F': 'f'}, {'G': 'g', 'H': 'h', 'I': 'i'}])\n",
      "Length:  3\n",
      "Items:  dict_items([(1, {'A': 'a', 'B': 'b', 'C': 'c'}), (2, {'D': 'd', 'E': 'e', 'F': 'f'}), (3, {'G': 'g', 'H': 'h', 'I': 'i'})])\n",
      "Value of key C:  c\n"
     ]
    }
   ],
   "source": [
    "data= { 1: {'A':'a','B':'b','C':'c'},\n",
    "        2: {'D':'d','E':'e','F':'f'},\n",
    "        3: {'G':'g','H':'h','I':'i'} }\n",
    "\n",
    "print('Keys: ', data.keys())\n",
    "print('Values: ', data.values())\n",
    "print('Length: ', len(data))\n",
    "print('Items: ', data.items())\n",
    "# to access item\n",
    "print('Value of key C: ', data[1]['C'])"
   ]
  },
  {
   "cell_type": "code",
   "execution_count": null,
   "id": "960cb3e7",
   "metadata": {},
   "outputs": [],
   "source": []
  }
 ],
 "metadata": {
  "kernelspec": {
   "display_name": "Python 3 (ipykernel)",
   "language": "python",
   "name": "python3"
  },
  "language_info": {
   "codemirror_mode": {
    "name": "ipython",
    "version": 3
   },
   "file_extension": ".py",
   "mimetype": "text/x-python",
   "name": "python",
   "nbconvert_exporter": "python",
   "pygments_lexer": "ipython3",
   "version": "3.9.7"
  }
 },
 "nbformat": 4,
 "nbformat_minor": 5
}
